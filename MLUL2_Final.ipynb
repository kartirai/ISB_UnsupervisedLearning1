{
 "cells": [
  {
   "cell_type": "code",
   "execution_count": 2,
   "id": "e0e1ca85",
   "metadata": {
    "id": "e0e1ca85"
   },
   "outputs": [],
   "source": [
    "import numpy as np\n",
    "import pandas as pd\n",
    "import random\n",
    "import string \n",
    "import warnings\n",
    "warnings.filterwarnings('ignore')"
   ]
  },
  {
   "cell_type": "code",
   "execution_count": 3,
   "id": "bb4bbe7f",
   "metadata": {
    "id": "bb4bbe7f"
   },
   "outputs": [],
   "source": [
    "import re\n",
    "import matplotlib.pyplot as plt\n",
    "import matplotlib"
   ]
  },
  {
   "cell_type": "code",
   "execution_count": 4,
   "id": "b2ed59ee",
   "metadata": {
    "colab": {
     "base_uri": "https://localhost:8080/",
     "height": 345
    },
    "id": "b2ed59ee",
    "outputId": "6964928d-f41a-4d17-c0f4-28560de27a64"
   },
   "outputs": [
    {
     "data": {
      "text/html": [
       "<div>\n",
       "<style scoped>\n",
       "    .dataframe tbody tr th:only-of-type {\n",
       "        vertical-align: middle;\n",
       "    }\n",
       "\n",
       "    .dataframe tbody tr th {\n",
       "        vertical-align: top;\n",
       "    }\n",
       "\n",
       "    .dataframe thead th {\n",
       "        text-align: right;\n",
       "    }\n",
       "</style>\n",
       "<table border=\"1\" class=\"dataframe\">\n",
       "  <thead>\n",
       "    <tr style=\"text-align: right;\">\n",
       "      <th></th>\n",
       "      <th>song_id</th>\n",
       "      <th>title</th>\n",
       "      <th>release</th>\n",
       "      <th>artist_name</th>\n",
       "      <th>year</th>\n",
       "    </tr>\n",
       "  </thead>\n",
       "  <tbody>\n",
       "    <tr>\n",
       "      <th>0</th>\n",
       "      <td>SOQMMHC12AB0180CB8</td>\n",
       "      <td>Silent Night</td>\n",
       "      <td>Monster Ballads X-Mas</td>\n",
       "      <td>Faster Pussy cat</td>\n",
       "      <td>2003</td>\n",
       "    </tr>\n",
       "    <tr>\n",
       "      <th>1</th>\n",
       "      <td>SOVFVAK12A8C1350D9</td>\n",
       "      <td>Tanssi vaan</td>\n",
       "      <td>Karkuteillä</td>\n",
       "      <td>Karkkiautomaatti</td>\n",
       "      <td>1995</td>\n",
       "    </tr>\n",
       "    <tr>\n",
       "      <th>2</th>\n",
       "      <td>SOGTUKN12AB017F4F1</td>\n",
       "      <td>No One Could Ever</td>\n",
       "      <td>Butter</td>\n",
       "      <td>Hudson Mohawke</td>\n",
       "      <td>2006</td>\n",
       "    </tr>\n",
       "    <tr>\n",
       "      <th>3</th>\n",
       "      <td>SOBNYVR12A8C13558C</td>\n",
       "      <td>Si Vos Querés</td>\n",
       "      <td>De Culo</td>\n",
       "      <td>Yerba Brava</td>\n",
       "      <td>2003</td>\n",
       "    </tr>\n",
       "    <tr>\n",
       "      <th>4</th>\n",
       "      <td>SOHSBXH12A8C13B0DF</td>\n",
       "      <td>Tangle Of Aspens</td>\n",
       "      <td>Rene Ablaze Presents Winter Sessions</td>\n",
       "      <td>Der Mystic</td>\n",
       "      <td>0</td>\n",
       "    </tr>\n",
       "  </tbody>\n",
       "</table>\n",
       "</div>"
      ],
      "text/plain": [
       "              song_id              title  \\\n",
       "0  SOQMMHC12AB0180CB8       Silent Night   \n",
       "1  SOVFVAK12A8C1350D9        Tanssi vaan   \n",
       "2  SOGTUKN12AB017F4F1  No One Could Ever   \n",
       "3  SOBNYVR12A8C13558C      Si Vos Querés   \n",
       "4  SOHSBXH12A8C13B0DF   Tangle Of Aspens   \n",
       "\n",
       "                                release       artist_name  year  \n",
       "0                 Monster Ballads X-Mas  Faster Pussy cat  2003  \n",
       "1                           Karkuteillä  Karkkiautomaatti  1995  \n",
       "2                                Butter    Hudson Mohawke  2006  \n",
       "3                               De Culo       Yerba Brava  2003  \n",
       "4  Rene Ablaze Presents Winter Sessions        Der Mystic     0  "
      ]
     },
     "execution_count": 4,
     "metadata": {},
     "output_type": "execute_result"
    }
   ],
   "source": [
    "df1=pd.read_csv('song_data.csv')\n",
    "df1.head()"
   ]
  },
  {
   "cell_type": "code",
   "execution_count": 5,
   "id": "b183e56a",
   "metadata": {
    "id": "b183e56a",
    "outputId": "5adb0e15-44a6-4a70-e783-0ac6f6cf5ab7"
   },
   "outputs": [
    {
     "data": {
      "text/plain": [
       "1000000"
      ]
     },
     "execution_count": 5,
     "metadata": {},
     "output_type": "execute_result"
    }
   ],
   "source": [
    "len(df1)"
   ]
  },
  {
   "cell_type": "code",
   "execution_count": 6,
   "id": "67c74145",
   "metadata": {
    "id": "67c74145",
    "outputId": "58256c30-3e0d-467e-8fca-de82a146af7e"
   },
   "outputs": [
    {
     "data": {
      "text/plain": [
       "(1000000, 5)"
      ]
     },
     "execution_count": 6,
     "metadata": {},
     "output_type": "execute_result"
    }
   ],
   "source": [
    "df1.shape"
   ]
  },
  {
   "cell_type": "code",
   "execution_count": 7,
   "id": "551bd2e3",
   "metadata": {
    "id": "551bd2e3",
    "outputId": "00cedd4a-a428-4f4f-be66-7529149c19e8"
   },
   "outputs": [
    {
     "name": "stdout",
     "output_type": "stream",
     "text": [
      "The number of rows is: 1000000\n",
      "The number of columns is:  5\n"
     ]
    }
   ],
   "source": [
    "print('The number of rows is: %2.3d'%df1.shape[0])\n",
    "print('The number of columns is: %2.1d'%df1.shape[1])"
   ]
  },
  {
   "cell_type": "code",
   "execution_count": 8,
   "id": "0cce10c4",
   "metadata": {
    "id": "0cce10c4",
    "outputId": "2663ff8d-e2b1-4968-c4ce-d114ce58fe57"
   },
   "outputs": [
    {
     "name": "stdout",
     "output_type": "stream",
     "text": [
      "<class 'pandas.core.frame.DataFrame'>\n",
      "RangeIndex: 1000000 entries, 0 to 999999\n",
      "Data columns (total 5 columns):\n",
      " #   Column       Non-Null Count    Dtype \n",
      "---  ------       --------------    ----- \n",
      " 0   song_id      1000000 non-null  object\n",
      " 1   title        999985 non-null   object\n",
      " 2   release      999995 non-null   object\n",
      " 3   artist_name  1000000 non-null  object\n",
      " 4   year         1000000 non-null  int64 \n",
      "dtypes: int64(1), object(4)\n",
      "memory usage: 38.1+ MB\n"
     ]
    }
   ],
   "source": [
    "df1.info()"
   ]
  },
  {
   "cell_type": "code",
   "execution_count": 9,
   "id": "d8f0d511",
   "metadata": {
    "id": "d8f0d511",
    "outputId": "23fb4617-6f61-466b-81cf-e5f8526ca731"
   },
   "outputs": [
    {
     "data": {
      "text/plain": [
       "song_id        object\n",
       "title          object\n",
       "release        object\n",
       "artist_name    object\n",
       "year            int64\n",
       "dtype: object"
      ]
     },
     "execution_count": 9,
     "metadata": {},
     "output_type": "execute_result"
    }
   ],
   "source": [
    "df1.dtypes"
   ]
  },
  {
   "cell_type": "code",
   "execution_count": 10,
   "id": "91243fe9",
   "metadata": {
    "id": "91243fe9",
    "outputId": "d2305b87-1af9-4a0f-f3b1-151805e953d1"
   },
   "outputs": [
    {
     "data": {
      "text/html": [
       "<div>\n",
       "<style scoped>\n",
       "    .dataframe tbody tr th:only-of-type {\n",
       "        vertical-align: middle;\n",
       "    }\n",
       "\n",
       "    .dataframe tbody tr th {\n",
       "        vertical-align: top;\n",
       "    }\n",
       "\n",
       "    .dataframe thead th {\n",
       "        text-align: right;\n",
       "    }\n",
       "</style>\n",
       "<table border=\"1\" class=\"dataframe\">\n",
       "  <thead>\n",
       "    <tr style=\"text-align: right;\">\n",
       "      <th></th>\n",
       "      <th>song_id</th>\n",
       "      <th>title</th>\n",
       "      <th>release</th>\n",
       "      <th>artist_name</th>\n",
       "      <th>year</th>\n",
       "    </tr>\n",
       "  </thead>\n",
       "  <tbody>\n",
       "    <tr>\n",
       "      <th>count</th>\n",
       "      <td>1000000</td>\n",
       "      <td>999985</td>\n",
       "      <td>999995</td>\n",
       "      <td>1000000</td>\n",
       "      <td>1000000.000000</td>\n",
       "    </tr>\n",
       "    <tr>\n",
       "      <th>unique</th>\n",
       "      <td>999056</td>\n",
       "      <td>702428</td>\n",
       "      <td>149288</td>\n",
       "      <td>72665</td>\n",
       "      <td>NaN</td>\n",
       "    </tr>\n",
       "    <tr>\n",
       "      <th>top</th>\n",
       "      <td>SOUYQYY12AF72A000F</td>\n",
       "      <td>Intro</td>\n",
       "      <td>Greatest Hits</td>\n",
       "      <td>Michael Jackson</td>\n",
       "      <td>NaN</td>\n",
       "    </tr>\n",
       "    <tr>\n",
       "      <th>freq</th>\n",
       "      <td>3</td>\n",
       "      <td>1510</td>\n",
       "      <td>2014</td>\n",
       "      <td>194</td>\n",
       "      <td>NaN</td>\n",
       "    </tr>\n",
       "    <tr>\n",
       "      <th>mean</th>\n",
       "      <td>NaN</td>\n",
       "      <td>NaN</td>\n",
       "      <td>NaN</td>\n",
       "      <td>NaN</td>\n",
       "      <td>1030.325652</td>\n",
       "    </tr>\n",
       "    <tr>\n",
       "      <th>std</th>\n",
       "      <td>NaN</td>\n",
       "      <td>NaN</td>\n",
       "      <td>NaN</td>\n",
       "      <td>NaN</td>\n",
       "      <td>998.745002</td>\n",
       "    </tr>\n",
       "    <tr>\n",
       "      <th>min</th>\n",
       "      <td>NaN</td>\n",
       "      <td>NaN</td>\n",
       "      <td>NaN</td>\n",
       "      <td>NaN</td>\n",
       "      <td>0.000000</td>\n",
       "    </tr>\n",
       "    <tr>\n",
       "      <th>25%</th>\n",
       "      <td>NaN</td>\n",
       "      <td>NaN</td>\n",
       "      <td>NaN</td>\n",
       "      <td>NaN</td>\n",
       "      <td>0.000000</td>\n",
       "    </tr>\n",
       "    <tr>\n",
       "      <th>50%</th>\n",
       "      <td>NaN</td>\n",
       "      <td>NaN</td>\n",
       "      <td>NaN</td>\n",
       "      <td>NaN</td>\n",
       "      <td>1969.000000</td>\n",
       "    </tr>\n",
       "    <tr>\n",
       "      <th>75%</th>\n",
       "      <td>NaN</td>\n",
       "      <td>NaN</td>\n",
       "      <td>NaN</td>\n",
       "      <td>NaN</td>\n",
       "      <td>2002.000000</td>\n",
       "    </tr>\n",
       "    <tr>\n",
       "      <th>max</th>\n",
       "      <td>NaN</td>\n",
       "      <td>NaN</td>\n",
       "      <td>NaN</td>\n",
       "      <td>NaN</td>\n",
       "      <td>2011.000000</td>\n",
       "    </tr>\n",
       "  </tbody>\n",
       "</table>\n",
       "</div>"
      ],
      "text/plain": [
       "                   song_id   title        release      artist_name  \\\n",
       "count              1000000  999985         999995          1000000   \n",
       "unique              999056  702428         149288            72665   \n",
       "top     SOUYQYY12AF72A000F   Intro  Greatest Hits  Michael Jackson   \n",
       "freq                     3    1510           2014              194   \n",
       "mean                   NaN     NaN            NaN              NaN   \n",
       "std                    NaN     NaN            NaN              NaN   \n",
       "min                    NaN     NaN            NaN              NaN   \n",
       "25%                    NaN     NaN            NaN              NaN   \n",
       "50%                    NaN     NaN            NaN              NaN   \n",
       "75%                    NaN     NaN            NaN              NaN   \n",
       "max                    NaN     NaN            NaN              NaN   \n",
       "\n",
       "                  year  \n",
       "count   1000000.000000  \n",
       "unique             NaN  \n",
       "top                NaN  \n",
       "freq               NaN  \n",
       "mean       1030.325652  \n",
       "std         998.745002  \n",
       "min           0.000000  \n",
       "25%           0.000000  \n",
       "50%        1969.000000  \n",
       "75%        2002.000000  \n",
       "max        2011.000000  "
      ]
     },
     "execution_count": 10,
     "metadata": {},
     "output_type": "execute_result"
    }
   ],
   "source": [
    "df1.describe(include='all')"
   ]
  },
  {
   "cell_type": "code",
   "execution_count": 11,
   "id": "620d2096",
   "metadata": {
    "id": "620d2096",
    "outputId": "5b199be5-2537-4580-8772-436d240fe413"
   },
   "outputs": [
    {
     "data": {
      "text/plain": [
       "song_id         0\n",
       "title          15\n",
       "release         5\n",
       "artist_name     0\n",
       "year            0\n",
       "dtype: int64"
      ]
     },
     "execution_count": 11,
     "metadata": {},
     "output_type": "execute_result"
    }
   ],
   "source": [
    "df1.isnull().sum()"
   ]
  },
  {
   "cell_type": "code",
   "execution_count": 12,
   "id": "9a6cd88c",
   "metadata": {
    "id": "9a6cd88c",
    "outputId": "7b72a3f9-5194-4a6f-c3e7-b4b72a04a4ee"
   },
   "outputs": [
    {
     "data": {
      "text/plain": [
       "20"
      ]
     },
     "execution_count": 12,
     "metadata": {},
     "output_type": "execute_result"
    }
   ],
   "source": [
    "df1.isnull().sum().sum()"
   ]
  },
  {
   "cell_type": "code",
   "execution_count": 13,
   "id": "5aab0239",
   "metadata": {
    "id": "5aab0239",
    "outputId": "085041cc-e627-42bb-b427-51d9efe9b298"
   },
   "outputs": [
    {
     "data": {
      "text/html": [
       "<div>\n",
       "<style scoped>\n",
       "    .dataframe tbody tr th:only-of-type {\n",
       "        vertical-align: middle;\n",
       "    }\n",
       "\n",
       "    .dataframe tbody tr th {\n",
       "        vertical-align: top;\n",
       "    }\n",
       "\n",
       "    .dataframe thead th {\n",
       "        text-align: right;\n",
       "    }\n",
       "</style>\n",
       "<table border=\"1\" class=\"dataframe\">\n",
       "  <thead>\n",
       "    <tr style=\"text-align: right;\">\n",
       "      <th></th>\n",
       "      <th>user_id</th>\n",
       "      <th>song_id</th>\n",
       "      <th>listen_count</th>\n",
       "    </tr>\n",
       "  </thead>\n",
       "  <tbody>\n",
       "    <tr>\n",
       "      <th>0</th>\n",
       "      <td>b80344d063b5ccb3212f76538f3d9e43d87dca9e</td>\n",
       "      <td>SOAKIMP12A8C130995</td>\n",
       "      <td>1</td>\n",
       "    </tr>\n",
       "    <tr>\n",
       "      <th>1</th>\n",
       "      <td>b80344d063b5ccb3212f76538f3d9e43d87dca9e</td>\n",
       "      <td>SOBBMDR12A8C13253B</td>\n",
       "      <td>2</td>\n",
       "    </tr>\n",
       "    <tr>\n",
       "      <th>2</th>\n",
       "      <td>b80344d063b5ccb3212f76538f3d9e43d87dca9e</td>\n",
       "      <td>SOBXHDL12A81C204C0</td>\n",
       "      <td>1</td>\n",
       "    </tr>\n",
       "    <tr>\n",
       "      <th>3</th>\n",
       "      <td>b80344d063b5ccb3212f76538f3d9e43d87dca9e</td>\n",
       "      <td>SOBYHAJ12A6701BF1D</td>\n",
       "      <td>1</td>\n",
       "    </tr>\n",
       "    <tr>\n",
       "      <th>4</th>\n",
       "      <td>b80344d063b5ccb3212f76538f3d9e43d87dca9e</td>\n",
       "      <td>SODACBL12A8C13C273</td>\n",
       "      <td>1</td>\n",
       "    </tr>\n",
       "  </tbody>\n",
       "</table>\n",
       "</div>"
      ],
      "text/plain": [
       "                                    user_id             song_id  listen_count\n",
       "0  b80344d063b5ccb3212f76538f3d9e43d87dca9e  SOAKIMP12A8C130995             1\n",
       "1  b80344d063b5ccb3212f76538f3d9e43d87dca9e  SOBBMDR12A8C13253B             2\n",
       "2  b80344d063b5ccb3212f76538f3d9e43d87dca9e  SOBXHDL12A81C204C0             1\n",
       "3  b80344d063b5ccb3212f76538f3d9e43d87dca9e  SOBYHAJ12A6701BF1D             1\n",
       "4  b80344d063b5ccb3212f76538f3d9e43d87dca9e  SODACBL12A8C13C273             1"
      ]
     },
     "execution_count": 13,
     "metadata": {},
     "output_type": "execute_result"
    }
   ],
   "source": [
    "df2=pd.read_table('song_data2.txt', sep='\\t', names=['user_id', 'song_id', 'listen_count'])\n",
    "df2.head()"
   ]
  },
  {
   "cell_type": "code",
   "execution_count": 14,
   "id": "dc74e6cb",
   "metadata": {
    "id": "dc74e6cb",
    "outputId": "00e081ee-59bc-413f-e0a1-90cd461421cf"
   },
   "outputs": [
    {
     "data": {
      "text/plain": [
       "(2000000, 3)"
      ]
     },
     "execution_count": 14,
     "metadata": {},
     "output_type": "execute_result"
    }
   ],
   "source": [
    "df2.shape"
   ]
  },
  {
   "cell_type": "code",
   "execution_count": 15,
   "id": "c8410659",
   "metadata": {
    "id": "c8410659",
    "outputId": "90001e7e-d500-4a42-8ff5-1022288b3c2c"
   },
   "outputs": [
    {
     "name": "stdout",
     "output_type": "stream",
     "text": [
      "The number of rows is: 2000000\n",
      "The number of columns is:  3\n"
     ]
    }
   ],
   "source": [
    "print('The number of rows is: %2.3d'%df2.shape[0])\n",
    "print('The number of columns is: %2.1d'%df2.shape[1])"
   ]
  },
  {
   "cell_type": "code",
   "execution_count": 16,
   "id": "b103c5fe",
   "metadata": {
    "id": "b103c5fe",
    "outputId": "b4cd612b-9668-47c3-85ee-6626cd93dfa0"
   },
   "outputs": [
    {
     "name": "stdout",
     "output_type": "stream",
     "text": [
      "<class 'pandas.core.frame.DataFrame'>\n",
      "RangeIndex: 2000000 entries, 0 to 1999999\n",
      "Data columns (total 3 columns):\n",
      " #   Column        Dtype \n",
      "---  ------        ----- \n",
      " 0   user_id       object\n",
      " 1   song_id       object\n",
      " 2   listen_count  int64 \n",
      "dtypes: int64(1), object(2)\n",
      "memory usage: 45.8+ MB\n"
     ]
    }
   ],
   "source": [
    "df2.info()"
   ]
  },
  {
   "cell_type": "code",
   "execution_count": 17,
   "id": "91fa1305",
   "metadata": {
    "id": "91fa1305",
    "outputId": "271848f1-5386-422b-c32b-e9bc4984ff85"
   },
   "outputs": [
    {
     "data": {
      "text/plain": [
       "user_id         object\n",
       "song_id         object\n",
       "listen_count     int64\n",
       "dtype: object"
      ]
     },
     "execution_count": 17,
     "metadata": {},
     "output_type": "execute_result"
    }
   ],
   "source": [
    "df2.dtypes"
   ]
  },
  {
   "cell_type": "code",
   "execution_count": 18,
   "id": "b0adece0",
   "metadata": {
    "id": "b0adece0",
    "outputId": "fe7d5097-5062-425e-f84c-679cb0e4372f"
   },
   "outputs": [
    {
     "data": {
      "text/html": [
       "<div>\n",
       "<style scoped>\n",
       "    .dataframe tbody tr th:only-of-type {\n",
       "        vertical-align: middle;\n",
       "    }\n",
       "\n",
       "    .dataframe tbody tr th {\n",
       "        vertical-align: top;\n",
       "    }\n",
       "\n",
       "    .dataframe thead th {\n",
       "        text-align: right;\n",
       "    }\n",
       "</style>\n",
       "<table border=\"1\" class=\"dataframe\">\n",
       "  <thead>\n",
       "    <tr style=\"text-align: right;\">\n",
       "      <th></th>\n",
       "      <th>user_id</th>\n",
       "      <th>song_id</th>\n",
       "      <th>listen_count</th>\n",
       "    </tr>\n",
       "  </thead>\n",
       "  <tbody>\n",
       "    <tr>\n",
       "      <th>count</th>\n",
       "      <td>2000000</td>\n",
       "      <td>2000000</td>\n",
       "      <td>2.000000e+06</td>\n",
       "    </tr>\n",
       "    <tr>\n",
       "      <th>unique</th>\n",
       "      <td>76353</td>\n",
       "      <td>10000</td>\n",
       "      <td>NaN</td>\n",
       "    </tr>\n",
       "    <tr>\n",
       "      <th>top</th>\n",
       "      <td>6d625c6557df84b60d90426c0116138b617b9449</td>\n",
       "      <td>SOFRQTD12A81C233C0</td>\n",
       "      <td>NaN</td>\n",
       "    </tr>\n",
       "    <tr>\n",
       "      <th>freq</th>\n",
       "      <td>711</td>\n",
       "      <td>8277</td>\n",
       "      <td>NaN</td>\n",
       "    </tr>\n",
       "    <tr>\n",
       "      <th>mean</th>\n",
       "      <td>NaN</td>\n",
       "      <td>NaN</td>\n",
       "      <td>3.045485e+00</td>\n",
       "    </tr>\n",
       "    <tr>\n",
       "      <th>std</th>\n",
       "      <td>NaN</td>\n",
       "      <td>NaN</td>\n",
       "      <td>6.579720e+00</td>\n",
       "    </tr>\n",
       "    <tr>\n",
       "      <th>min</th>\n",
       "      <td>NaN</td>\n",
       "      <td>NaN</td>\n",
       "      <td>1.000000e+00</td>\n",
       "    </tr>\n",
       "    <tr>\n",
       "      <th>25%</th>\n",
       "      <td>NaN</td>\n",
       "      <td>NaN</td>\n",
       "      <td>1.000000e+00</td>\n",
       "    </tr>\n",
       "    <tr>\n",
       "      <th>50%</th>\n",
       "      <td>NaN</td>\n",
       "      <td>NaN</td>\n",
       "      <td>1.000000e+00</td>\n",
       "    </tr>\n",
       "    <tr>\n",
       "      <th>75%</th>\n",
       "      <td>NaN</td>\n",
       "      <td>NaN</td>\n",
       "      <td>3.000000e+00</td>\n",
       "    </tr>\n",
       "    <tr>\n",
       "      <th>max</th>\n",
       "      <td>NaN</td>\n",
       "      <td>NaN</td>\n",
       "      <td>2.213000e+03</td>\n",
       "    </tr>\n",
       "  </tbody>\n",
       "</table>\n",
       "</div>"
      ],
      "text/plain": [
       "                                         user_id             song_id  \\\n",
       "count                                    2000000             2000000   \n",
       "unique                                     76353               10000   \n",
       "top     6d625c6557df84b60d90426c0116138b617b9449  SOFRQTD12A81C233C0   \n",
       "freq                                         711                8277   \n",
       "mean                                         NaN                 NaN   \n",
       "std                                          NaN                 NaN   \n",
       "min                                          NaN                 NaN   \n",
       "25%                                          NaN                 NaN   \n",
       "50%                                          NaN                 NaN   \n",
       "75%                                          NaN                 NaN   \n",
       "max                                          NaN                 NaN   \n",
       "\n",
       "        listen_count  \n",
       "count   2.000000e+06  \n",
       "unique           NaN  \n",
       "top              NaN  \n",
       "freq             NaN  \n",
       "mean    3.045485e+00  \n",
       "std     6.579720e+00  \n",
       "min     1.000000e+00  \n",
       "25%     1.000000e+00  \n",
       "50%     1.000000e+00  \n",
       "75%     3.000000e+00  \n",
       "max     2.213000e+03  "
      ]
     },
     "execution_count": 18,
     "metadata": {},
     "output_type": "execute_result"
    }
   ],
   "source": [
    "df2.describe(include='all')"
   ]
  },
  {
   "cell_type": "code",
   "execution_count": 19,
   "id": "b79caad1",
   "metadata": {
    "id": "b79caad1",
    "outputId": "49b7044c-2649-4df6-c024-04000a9e125d"
   },
   "outputs": [
    {
     "data": {
      "text/plain": [
       "user_id         0\n",
       "song_id         0\n",
       "listen_count    0\n",
       "dtype: int64"
      ]
     },
     "execution_count": 19,
     "metadata": {},
     "output_type": "execute_result"
    }
   ],
   "source": [
    "df2.isnull().sum()"
   ]
  },
  {
   "cell_type": "code",
   "execution_count": 20,
   "id": "b70d6e83",
   "metadata": {
    "id": "b70d6e83",
    "outputId": "2f8f872f-dada-4c37-e128-cfe653105efa"
   },
   "outputs": [
    {
     "data": {
      "text/plain": [
       "0"
      ]
     },
     "execution_count": 20,
     "metadata": {},
     "output_type": "execute_result"
    }
   ],
   "source": [
    "df2.isnull().sum().sum()"
   ]
  },
  {
   "cell_type": "code",
   "execution_count": 22,
   "id": "37eca6b8",
   "metadata": {
    "id": "37eca6b8",
    "outputId": "ac0ebbb8-5854-461a-bc14-07c2935d2bca"
   },
   "outputs": [
    {
     "data": {
      "text/html": [
       "<div>\n",
       "<style scoped>\n",
       "    .dataframe tbody tr th:only-of-type {\n",
       "        vertical-align: middle;\n",
       "    }\n",
       "\n",
       "    .dataframe tbody tr th {\n",
       "        vertical-align: top;\n",
       "    }\n",
       "\n",
       "    .dataframe thead th {\n",
       "        text-align: right;\n",
       "    }\n",
       "</style>\n",
       "<table border=\"1\" class=\"dataframe\">\n",
       "  <thead>\n",
       "    <tr style=\"text-align: right;\">\n",
       "      <th></th>\n",
       "      <th>song_id</th>\n",
       "      <th>title</th>\n",
       "      <th>release</th>\n",
       "      <th>artist_name</th>\n",
       "      <th>year</th>\n",
       "      <th>user_id</th>\n",
       "      <th>listen_count</th>\n",
       "    </tr>\n",
       "  </thead>\n",
       "  <tbody>\n",
       "    <tr>\n",
       "      <th>0</th>\n",
       "      <td>SOQMMHC12AB0180CB8</td>\n",
       "      <td>Silent Night</td>\n",
       "      <td>Monster Ballads X-Mas</td>\n",
       "      <td>Faster Pussy cat</td>\n",
       "      <td>2003</td>\n",
       "      <td>NaN</td>\n",
       "      <td>NaN</td>\n",
       "    </tr>\n",
       "    <tr>\n",
       "      <th>1</th>\n",
       "      <td>SOVFVAK12A8C1350D9</td>\n",
       "      <td>Tanssi vaan</td>\n",
       "      <td>Karkuteillä</td>\n",
       "      <td>Karkkiautomaatti</td>\n",
       "      <td>1995</td>\n",
       "      <td>NaN</td>\n",
       "      <td>NaN</td>\n",
       "    </tr>\n",
       "    <tr>\n",
       "      <th>2</th>\n",
       "      <td>SOGTUKN12AB017F4F1</td>\n",
       "      <td>No One Could Ever</td>\n",
       "      <td>Butter</td>\n",
       "      <td>Hudson Mohawke</td>\n",
       "      <td>2006</td>\n",
       "      <td>NaN</td>\n",
       "      <td>NaN</td>\n",
       "    </tr>\n",
       "    <tr>\n",
       "      <th>3</th>\n",
       "      <td>SOBNYVR12A8C13558C</td>\n",
       "      <td>Si Vos Querés</td>\n",
       "      <td>De Culo</td>\n",
       "      <td>Yerba Brava</td>\n",
       "      <td>2003</td>\n",
       "      <td>NaN</td>\n",
       "      <td>NaN</td>\n",
       "    </tr>\n",
       "    <tr>\n",
       "      <th>4</th>\n",
       "      <td>SOHSBXH12A8C13B0DF</td>\n",
       "      <td>Tangle Of Aspens</td>\n",
       "      <td>Rene Ablaze Presents Winter Sessions</td>\n",
       "      <td>Der Mystic</td>\n",
       "      <td>0</td>\n",
       "      <td>NaN</td>\n",
       "      <td>NaN</td>\n",
       "    </tr>\n",
       "  </tbody>\n",
       "</table>\n",
       "</div>"
      ],
      "text/plain": [
       "              song_id              title  \\\n",
       "0  SOQMMHC12AB0180CB8       Silent Night   \n",
       "1  SOVFVAK12A8C1350D9        Tanssi vaan   \n",
       "2  SOGTUKN12AB017F4F1  No One Could Ever   \n",
       "3  SOBNYVR12A8C13558C      Si Vos Querés   \n",
       "4  SOHSBXH12A8C13B0DF   Tangle Of Aspens   \n",
       "\n",
       "                                release       artist_name  year user_id  \\\n",
       "0                 Monster Ballads X-Mas  Faster Pussy cat  2003     NaN   \n",
       "1                           Karkuteillä  Karkkiautomaatti  1995     NaN   \n",
       "2                                Butter    Hudson Mohawke  2006     NaN   \n",
       "3                               De Culo       Yerba Brava  2003     NaN   \n",
       "4  Rene Ablaze Presents Winter Sessions        Der Mystic     0     NaN   \n",
       "\n",
       "   listen_count  \n",
       "0           NaN  \n",
       "1           NaN  \n",
       "2           NaN  \n",
       "3           NaN  \n",
       "4           NaN  "
      ]
     },
     "execution_count": 22,
     "metadata": {},
     "output_type": "execute_result"
    }
   ],
   "source": [
    "# combining both dataframes df1 and df2\n",
    "df = pd.merge(df1,df2.drop_duplicates(['song_id']), on='song_id', how='left')\n",
    "df.head()"
   ]
  },
  {
   "cell_type": "code",
   "execution_count": 23,
   "id": "e15b5dea",
   "metadata": {
    "id": "e15b5dea",
    "outputId": "d3b94932-26e0-4639-d0ff-f83b8020c3bb"
   },
   "outputs": [
    {
     "data": {
      "text/plain": [
       "Index(['song_id', 'title', 'release', 'artist_name', 'year', 'user_id',\n",
       "       'listen_count'],\n",
       "      dtype='object')"
      ]
     },
     "execution_count": 23,
     "metadata": {},
     "output_type": "execute_result"
    }
   ],
   "source": [
    "df.columns"
   ]
  },
  {
   "cell_type": "code",
   "execution_count": 24,
   "id": "95b91538",
   "metadata": {
    "id": "95b91538",
    "outputId": "c0b2d73f-ccff-4cd7-cde9-d8bda585df1f"
   },
   "outputs": [
    {
     "data": {
      "text/plain": [
       "(1000000, 7)"
      ]
     },
     "execution_count": 24,
     "metadata": {},
     "output_type": "execute_result"
    }
   ],
   "source": [
    "df.shape"
   ]
  },
  {
   "cell_type": "code",
   "execution_count": 25,
   "id": "43716ba7",
   "metadata": {
    "id": "43716ba7",
    "outputId": "0ce22b8e-9ec2-403c-e147-864d02aeb839"
   },
   "outputs": [
    {
     "name": "stdout",
     "output_type": "stream",
     "text": [
      "The number of rows is: 1000000\n",
      "The number of columns is:  7\n"
     ]
    }
   ],
   "source": [
    "print('The number of rows is: %2.3d'%df.shape[0])\n",
    "print('The number of columns is: %2.1d'%df.shape[1])"
   ]
  },
  {
   "cell_type": "code",
   "execution_count": 26,
   "id": "f46d2b5e",
   "metadata": {
    "id": "f46d2b5e",
    "outputId": "e71f631d-3b75-41f3-ae74-9141cd3cb1b1"
   },
   "outputs": [
    {
     "name": "stdout",
     "output_type": "stream",
     "text": [
      "<class 'pandas.core.frame.DataFrame'>\n",
      "Int64Index: 1000000 entries, 0 to 999999\n",
      "Data columns (total 7 columns):\n",
      " #   Column        Non-Null Count    Dtype  \n",
      "---  ------        --------------    -----  \n",
      " 0   song_id       1000000 non-null  object \n",
      " 1   title         999985 non-null   object \n",
      " 2   release       999995 non-null   object \n",
      " 3   artist_name   1000000 non-null  object \n",
      " 4   year          1000000 non-null  int64  \n",
      " 5   user_id       10269 non-null    object \n",
      " 6   listen_count  10269 non-null    float64\n",
      "dtypes: float64(1), int64(1), object(5)\n",
      "memory usage: 61.0+ MB\n"
     ]
    }
   ],
   "source": [
    "df.info()"
   ]
  },
  {
   "cell_type": "code",
   "execution_count": 27,
   "id": "970ae7a4",
   "metadata": {
    "id": "970ae7a4",
    "outputId": "db560589-63f5-4953-a648-072ac08aa8c0",
    "scrolled": true
   },
   "outputs": [
    {
     "data": {
      "text/plain": [
       "song_id          object\n",
       "title            object\n",
       "release          object\n",
       "artist_name      object\n",
       "year              int64\n",
       "user_id          object\n",
       "listen_count    float64\n",
       "dtype: object"
      ]
     },
     "execution_count": 27,
     "metadata": {},
     "output_type": "execute_result"
    }
   ],
   "source": [
    "df.dtypes"
   ]
  },
  {
   "cell_type": "code",
   "execution_count": 28,
   "id": "8729fe10",
   "metadata": {
    "id": "8729fe10",
    "outputId": "9ea565ee-6a44-44b0-dfc4-801eab61a2a4"
   },
   "outputs": [
    {
     "data": {
      "text/html": [
       "<div>\n",
       "<style scoped>\n",
       "    .dataframe tbody tr th:only-of-type {\n",
       "        vertical-align: middle;\n",
       "    }\n",
       "\n",
       "    .dataframe tbody tr th {\n",
       "        vertical-align: top;\n",
       "    }\n",
       "\n",
       "    .dataframe thead th {\n",
       "        text-align: right;\n",
       "    }\n",
       "</style>\n",
       "<table border=\"1\" class=\"dataframe\">\n",
       "  <thead>\n",
       "    <tr style=\"text-align: right;\">\n",
       "      <th></th>\n",
       "      <th>song_id</th>\n",
       "      <th>title</th>\n",
       "      <th>release</th>\n",
       "      <th>artist_name</th>\n",
       "      <th>year</th>\n",
       "      <th>user_id</th>\n",
       "      <th>listen_count</th>\n",
       "    </tr>\n",
       "  </thead>\n",
       "  <tbody>\n",
       "    <tr>\n",
       "      <th>count</th>\n",
       "      <td>1000000</td>\n",
       "      <td>999985</td>\n",
       "      <td>999995</td>\n",
       "      <td>1000000</td>\n",
       "      <td>1000000.000000</td>\n",
       "      <td>10269</td>\n",
       "      <td>10269.000000</td>\n",
       "    </tr>\n",
       "    <tr>\n",
       "      <th>unique</th>\n",
       "      <td>999056</td>\n",
       "      <td>702428</td>\n",
       "      <td>149288</td>\n",
       "      <td>72665</td>\n",
       "      <td>NaN</td>\n",
       "      <td>1825</td>\n",
       "      <td>NaN</td>\n",
       "    </tr>\n",
       "    <tr>\n",
       "      <th>top</th>\n",
       "      <td>SOUYQYY12AF72A000F</td>\n",
       "      <td>Intro</td>\n",
       "      <td>Greatest Hits</td>\n",
       "      <td>Michael Jackson</td>\n",
       "      <td>NaN</td>\n",
       "      <td>5a905f000fc1ff3df7ca807d57edb608863db05d</td>\n",
       "      <td>NaN</td>\n",
       "    </tr>\n",
       "    <tr>\n",
       "      <th>freq</th>\n",
       "      <td>3</td>\n",
       "      <td>1510</td>\n",
       "      <td>2014</td>\n",
       "      <td>194</td>\n",
       "      <td>NaN</td>\n",
       "      <td>371</td>\n",
       "      <td>NaN</td>\n",
       "    </tr>\n",
       "    <tr>\n",
       "      <th>mean</th>\n",
       "      <td>NaN</td>\n",
       "      <td>NaN</td>\n",
       "      <td>NaN</td>\n",
       "      <td>NaN</td>\n",
       "      <td>1030.325652</td>\n",
       "      <td>NaN</td>\n",
       "      <td>2.881683</td>\n",
       "    </tr>\n",
       "    <tr>\n",
       "      <th>std</th>\n",
       "      <td>NaN</td>\n",
       "      <td>NaN</td>\n",
       "      <td>NaN</td>\n",
       "      <td>NaN</td>\n",
       "      <td>998.745002</td>\n",
       "      <td>NaN</td>\n",
       "      <td>6.116669</td>\n",
       "    </tr>\n",
       "    <tr>\n",
       "      <th>min</th>\n",
       "      <td>NaN</td>\n",
       "      <td>NaN</td>\n",
       "      <td>NaN</td>\n",
       "      <td>NaN</td>\n",
       "      <td>0.000000</td>\n",
       "      <td>NaN</td>\n",
       "      <td>1.000000</td>\n",
       "    </tr>\n",
       "    <tr>\n",
       "      <th>25%</th>\n",
       "      <td>NaN</td>\n",
       "      <td>NaN</td>\n",
       "      <td>NaN</td>\n",
       "      <td>NaN</td>\n",
       "      <td>0.000000</td>\n",
       "      <td>NaN</td>\n",
       "      <td>1.000000</td>\n",
       "    </tr>\n",
       "    <tr>\n",
       "      <th>50%</th>\n",
       "      <td>NaN</td>\n",
       "      <td>NaN</td>\n",
       "      <td>NaN</td>\n",
       "      <td>NaN</td>\n",
       "      <td>1969.000000</td>\n",
       "      <td>NaN</td>\n",
       "      <td>1.000000</td>\n",
       "    </tr>\n",
       "    <tr>\n",
       "      <th>75%</th>\n",
       "      <td>NaN</td>\n",
       "      <td>NaN</td>\n",
       "      <td>NaN</td>\n",
       "      <td>NaN</td>\n",
       "      <td>2002.000000</td>\n",
       "      <td>NaN</td>\n",
       "      <td>3.000000</td>\n",
       "    </tr>\n",
       "    <tr>\n",
       "      <th>max</th>\n",
       "      <td>NaN</td>\n",
       "      <td>NaN</td>\n",
       "      <td>NaN</td>\n",
       "      <td>NaN</td>\n",
       "      <td>2011.000000</td>\n",
       "      <td>NaN</td>\n",
       "      <td>247.000000</td>\n",
       "    </tr>\n",
       "  </tbody>\n",
       "</table>\n",
       "</div>"
      ],
      "text/plain": [
       "                   song_id   title        release      artist_name  \\\n",
       "count              1000000  999985         999995          1000000   \n",
       "unique              999056  702428         149288            72665   \n",
       "top     SOUYQYY12AF72A000F   Intro  Greatest Hits  Michael Jackson   \n",
       "freq                     3    1510           2014              194   \n",
       "mean                   NaN     NaN            NaN              NaN   \n",
       "std                    NaN     NaN            NaN              NaN   \n",
       "min                    NaN     NaN            NaN              NaN   \n",
       "25%                    NaN     NaN            NaN              NaN   \n",
       "50%                    NaN     NaN            NaN              NaN   \n",
       "75%                    NaN     NaN            NaN              NaN   \n",
       "max                    NaN     NaN            NaN              NaN   \n",
       "\n",
       "                  year                                   user_id  listen_count  \n",
       "count   1000000.000000                                     10269  10269.000000  \n",
       "unique             NaN                                      1825           NaN  \n",
       "top                NaN  5a905f000fc1ff3df7ca807d57edb608863db05d           NaN  \n",
       "freq               NaN                                       371           NaN  \n",
       "mean       1030.325652                                       NaN      2.881683  \n",
       "std         998.745002                                       NaN      6.116669  \n",
       "min           0.000000                                       NaN      1.000000  \n",
       "25%           0.000000                                       NaN      1.000000  \n",
       "50%        1969.000000                                       NaN      1.000000  \n",
       "75%        2002.000000                                       NaN      3.000000  \n",
       "max        2011.000000                                       NaN    247.000000  "
      ]
     },
     "execution_count": 28,
     "metadata": {},
     "output_type": "execute_result"
    }
   ],
   "source": [
    "df.describe(include='all')"
   ]
  },
  {
   "cell_type": "code",
   "execution_count": 29,
   "id": "1038c625",
   "metadata": {
    "id": "1038c625",
    "outputId": "161e2f46-8eb9-41f3-ed28-b293d954b3df"
   },
   "outputs": [
    {
     "data": {
      "text/plain": [
       "song_id              0\n",
       "title               15\n",
       "release              5\n",
       "artist_name          0\n",
       "year                 0\n",
       "user_id         989731\n",
       "listen_count    989731\n",
       "dtype: int64"
      ]
     },
     "execution_count": 29,
     "metadata": {},
     "output_type": "execute_result"
    }
   ],
   "source": [
    "df.isnull().sum()"
   ]
  },
  {
   "cell_type": "code",
   "execution_count": 30,
   "id": "94ad6934",
   "metadata": {
    "id": "94ad6934",
    "outputId": "0b5b9d35-0e02-43fa-f719-efb36f8284a7"
   },
   "outputs": [
    {
     "data": {
      "text/plain": [
       "1979482"
      ]
     },
     "execution_count": 30,
     "metadata": {},
     "output_type": "execute_result"
    }
   ],
   "source": [
    "df.isnull().sum().sum()"
   ]
  },
  {
   "cell_type": "code",
   "execution_count": 31,
   "id": "f943ea3e",
   "metadata": {
    "id": "f943ea3e"
   },
   "outputs": [],
   "source": [
    "# using dropna() function  \n",
    "df.dropna(axis=0, how='any', inplace=True)"
   ]
  },
  {
   "cell_type": "code",
   "execution_count": 32,
   "id": "02c4e07b",
   "metadata": {
    "id": "02c4e07b",
    "outputId": "1abf2d93-30a5-44f1-8841-9acafaf3dcb6"
   },
   "outputs": [
    {
     "name": "stdout",
     "output_type": "stream",
     "text": [
      "The number of rows is: 10269\n",
      "The number of columns is:  7\n"
     ]
    }
   ],
   "source": [
    "print('The number of rows is: %2.3d'%df.shape[0])\n",
    "print('The number of columns is: %2.1d'%df.shape[1])"
   ]
  },
  {
   "cell_type": "code",
   "execution_count": 33,
   "id": "69588797",
   "metadata": {
    "id": "69588797",
    "outputId": "0562bcc6-2e55-43df-b77e-d5d331979caa"
   },
   "outputs": [
    {
     "name": "stdout",
     "output_type": "stream",
     "text": [
      "No. of duplicated rows = 138\n"
     ]
    },
    {
     "data": {
      "text/html": [
       "<div>\n",
       "<style scoped>\n",
       "    .dataframe tbody tr th:only-of-type {\n",
       "        vertical-align: middle;\n",
       "    }\n",
       "\n",
       "    .dataframe tbody tr th {\n",
       "        vertical-align: top;\n",
       "    }\n",
       "\n",
       "    .dataframe thead th {\n",
       "        text-align: right;\n",
       "    }\n",
       "</style>\n",
       "<table border=\"1\" class=\"dataframe\">\n",
       "  <thead>\n",
       "    <tr style=\"text-align: right;\">\n",
       "      <th></th>\n",
       "      <th>song_id</th>\n",
       "      <th>title</th>\n",
       "      <th>release</th>\n",
       "      <th>artist_name</th>\n",
       "      <th>year</th>\n",
       "      <th>user_id</th>\n",
       "      <th>listen_count</th>\n",
       "    </tr>\n",
       "  </thead>\n",
       "  <tbody>\n",
       "    <tr>\n",
       "      <th>83415</th>\n",
       "      <td>SONLOQQ12A8C139AF9</td>\n",
       "      <td>Go To Sleep</td>\n",
       "      <td>Hail To The Thief</td>\n",
       "      <td>Radiohead</td>\n",
       "      <td>2003</td>\n",
       "      <td>b61afb42335287239bd40e1dea50d849cbf8a9a9</td>\n",
       "      <td>1.0</td>\n",
       "    </tr>\n",
       "    <tr>\n",
       "      <th>165669</th>\n",
       "      <td>SOESVAM12A8C138BF2</td>\n",
       "      <td>Words So Leisured</td>\n",
       "      <td>Take Me Out</td>\n",
       "      <td>Franz Ferdinand</td>\n",
       "      <td>2004</td>\n",
       "      <td>02192554db8fe6d17b6309aabb2b7526a2e58534</td>\n",
       "      <td>1.0</td>\n",
       "    </tr>\n",
       "    <tr>\n",
       "      <th>225490</th>\n",
       "      <td>SOONSSB12AF72A7C44</td>\n",
       "      <td>Taper Jean Girl</td>\n",
       "      <td>Aha Shake Heartbreak</td>\n",
       "      <td>Kings Of Leon</td>\n",
       "      <td>2004</td>\n",
       "      <td>22d652f8891ba2186a4ce3ee8de7c192148108ef</td>\n",
       "      <td>1.0</td>\n",
       "    </tr>\n",
       "    <tr>\n",
       "      <th>231406</th>\n",
       "      <td>SORLJFU12A6D4FB880</td>\n",
       "      <td>Space Dementia</td>\n",
       "      <td>Origin Of Symmetry</td>\n",
       "      <td>Muse</td>\n",
       "      <td>0</td>\n",
       "      <td>1b704d4cddabea8258bd93497fcb73eab32fa592</td>\n",
       "      <td>1.0</td>\n",
       "    </tr>\n",
       "    <tr>\n",
       "      <th>272122</th>\n",
       "      <td>SOXKRVO12A8C140C3B</td>\n",
       "      <td>Last Kiss</td>\n",
       "      <td>E=MC²</td>\n",
       "      <td>Mariah Carey</td>\n",
       "      <td>2008</td>\n",
       "      <td>cc62e608a1a21353e1673817973235cde4116bad</td>\n",
       "      <td>2.0</td>\n",
       "    </tr>\n",
       "    <tr>\n",
       "      <th>...</th>\n",
       "      <td>...</td>\n",
       "      <td>...</td>\n",
       "      <td>...</td>\n",
       "      <td>...</td>\n",
       "      <td>...</td>\n",
       "      <td>...</td>\n",
       "      <td>...</td>\n",
       "    </tr>\n",
       "    <tr>\n",
       "      <th>977163</th>\n",
       "      <td>SOXHYWX12A8C142CE8</td>\n",
       "      <td>Real World</td>\n",
       "      <td>When The World Comes Down</td>\n",
       "      <td>The All-American Rejects</td>\n",
       "      <td>2008</td>\n",
       "      <td>73e9e981d5fc2a6453cdfb5025e2fa0a144a4142</td>\n",
       "      <td>1.0</td>\n",
       "    </tr>\n",
       "    <tr>\n",
       "      <th>977955</th>\n",
       "      <td>SOKDUUY12B0B80BD37</td>\n",
       "      <td>Rocket Queen</td>\n",
       "      <td>Live Era '87-'93</td>\n",
       "      <td>Guns N' Roses</td>\n",
       "      <td>1987</td>\n",
       "      <td>18dc95f354220b343e98ebbb7c8564291284ed9f</td>\n",
       "      <td>2.0</td>\n",
       "    </tr>\n",
       "    <tr>\n",
       "      <th>991107</th>\n",
       "      <td>SOIBSWV12A6D4F6AB3</td>\n",
       "      <td>Through The Wire</td>\n",
       "      <td>Through The Wire</td>\n",
       "      <td>Kanye West</td>\n",
       "      <td>2003</td>\n",
       "      <td>bd64f193f0f53f09d44ff48fd52830ff2fded392</td>\n",
       "      <td>1.0</td>\n",
       "    </tr>\n",
       "    <tr>\n",
       "      <th>997476</th>\n",
       "      <td>SOCGXXL12B0B808865</td>\n",
       "      <td>Yesterdays</td>\n",
       "      <td>Greatest Hits</td>\n",
       "      <td>Guns N' Roses</td>\n",
       "      <td>1991</td>\n",
       "      <td>18dc95f354220b343e98ebbb7c8564291284ed9f</td>\n",
       "      <td>1.0</td>\n",
       "    </tr>\n",
       "    <tr>\n",
       "      <th>999740</th>\n",
       "      <td>SODNVTM12A6D4FA448</td>\n",
       "      <td>Ruled By Secrecy</td>\n",
       "      <td>Absolution</td>\n",
       "      <td>Muse</td>\n",
       "      <td>0</td>\n",
       "      <td>cd4566f790e053cccf8448fe1d126f3c4ef2e996</td>\n",
       "      <td>1.0</td>\n",
       "    </tr>\n",
       "  </tbody>\n",
       "</table>\n",
       "<p>138 rows × 7 columns</p>\n",
       "</div>"
      ],
      "text/plain": [
       "                   song_id              title                    release  \\\n",
       "83415   SONLOQQ12A8C139AF9        Go To Sleep          Hail To The Thief   \n",
       "165669  SOESVAM12A8C138BF2  Words So Leisured                Take Me Out   \n",
       "225490  SOONSSB12AF72A7C44    Taper Jean Girl       Aha Shake Heartbreak   \n",
       "231406  SORLJFU12A6D4FB880     Space Dementia         Origin Of Symmetry   \n",
       "272122  SOXKRVO12A8C140C3B          Last Kiss                      E=MC²   \n",
       "...                    ...                ...                        ...   \n",
       "977163  SOXHYWX12A8C142CE8         Real World  When The World Comes Down   \n",
       "977955  SOKDUUY12B0B80BD37       Rocket Queen           Live Era '87-'93   \n",
       "991107  SOIBSWV12A6D4F6AB3   Through The Wire           Through The Wire   \n",
       "997476  SOCGXXL12B0B808865         Yesterdays              Greatest Hits   \n",
       "999740  SODNVTM12A6D4FA448   Ruled By Secrecy                 Absolution   \n",
       "\n",
       "                     artist_name  year  \\\n",
       "83415                  Radiohead  2003   \n",
       "165669           Franz Ferdinand  2004   \n",
       "225490             Kings Of Leon  2004   \n",
       "231406                      Muse     0   \n",
       "272122              Mariah Carey  2008   \n",
       "...                          ...   ...   \n",
       "977163  The All-American Rejects  2008   \n",
       "977955             Guns N' Roses  1987   \n",
       "991107                Kanye West  2003   \n",
       "997476             Guns N' Roses  1991   \n",
       "999740                      Muse     0   \n",
       "\n",
       "                                         user_id  listen_count  \n",
       "83415   b61afb42335287239bd40e1dea50d849cbf8a9a9           1.0  \n",
       "165669  02192554db8fe6d17b6309aabb2b7526a2e58534           1.0  \n",
       "225490  22d652f8891ba2186a4ce3ee8de7c192148108ef           1.0  \n",
       "231406  1b704d4cddabea8258bd93497fcb73eab32fa592           1.0  \n",
       "272122  cc62e608a1a21353e1673817973235cde4116bad           2.0  \n",
       "...                                          ...           ...  \n",
       "977163  73e9e981d5fc2a6453cdfb5025e2fa0a144a4142           1.0  \n",
       "977955  18dc95f354220b343e98ebbb7c8564291284ed9f           2.0  \n",
       "991107  bd64f193f0f53f09d44ff48fd52830ff2fded392           1.0  \n",
       "997476  18dc95f354220b343e98ebbb7c8564291284ed9f           1.0  \n",
       "999740  cd4566f790e053cccf8448fe1d126f3c4ef2e996           1.0  \n",
       "\n",
       "[138 rows x 7 columns]"
      ]
     },
     "execution_count": 33,
     "metadata": {},
     "output_type": "execute_result"
    }
   ],
   "source": [
    "# Are there any duplicates ?\n",
    "dups=df.duplicated()\n",
    "print(\"No. of duplicated rows = %d\" %(dups.sum()))\n",
    "df[dups]"
   ]
  },
  {
   "cell_type": "code",
   "execution_count": 34,
   "id": "9a379820",
   "metadata": {
    "id": "9a379820",
    "outputId": "9d2b8137-586d-447a-90fa-b7bbb4c92e9d"
   },
   "outputs": [
    {
     "data": {
      "text/plain": [
       "(10131, 7)"
      ]
     },
     "execution_count": 34,
     "metadata": {},
     "output_type": "execute_result"
    }
   ],
   "source": [
    "df = df.drop_duplicates()\n",
    "df.shape"
   ]
  },
  {
   "cell_type": "code",
   "execution_count": 35,
   "id": "936a6840",
   "metadata": {
    "id": "936a6840",
    "outputId": "f304da5e-b9c8-48a1-96e8-a9d240b032c0"
   },
   "outputs": [
    {
     "name": "stdout",
     "output_type": "stream",
     "text": [
      "The number of rows is: 10131\n",
      "The number of columns is:  7\n"
     ]
    }
   ],
   "source": [
    "print('The number of rows is: %2.3d'%df.shape[0])\n",
    "print('The number of columns is: %2.1d'%df.shape[1])"
   ]
  },
  {
   "cell_type": "code",
   "execution_count": 36,
   "id": "7fb1244c",
   "metadata": {
    "id": "7fb1244c",
    "outputId": "5710e124-dd73-4c8b-aa26-984e65d8768a"
   },
   "outputs": [
    {
     "data": {
      "text/html": [
       "<div>\n",
       "<style scoped>\n",
       "    .dataframe tbody tr th:only-of-type {\n",
       "        vertical-align: middle;\n",
       "    }\n",
       "\n",
       "    .dataframe tbody tr th {\n",
       "        vertical-align: top;\n",
       "    }\n",
       "\n",
       "    .dataframe thead th {\n",
       "        text-align: right;\n",
       "    }\n",
       "</style>\n",
       "<table border=\"1\" class=\"dataframe\">\n",
       "  <thead>\n",
       "    <tr style=\"text-align: right;\">\n",
       "      <th></th>\n",
       "      <th>song_id</th>\n",
       "      <th>title</th>\n",
       "      <th>release</th>\n",
       "      <th>artist_name</th>\n",
       "      <th>year</th>\n",
       "      <th>user_id</th>\n",
       "      <th>listen_count</th>\n",
       "      <th>song</th>\n",
       "    </tr>\n",
       "  </thead>\n",
       "  <tbody>\n",
       "    <tr>\n",
       "      <th>245</th>\n",
       "      <td>SOSZNRJ12A8AE46E38</td>\n",
       "      <td>Anyone Else But You</td>\n",
       "      <td>Juno - Music From The Motion Picture</td>\n",
       "      <td>Michael Cera &amp; Ellen Page</td>\n",
       "      <td>2007</td>\n",
       "      <td>d6589314c0a9bcbca4fee0c93b14bc402363afea</td>\n",
       "      <td>6.0</td>\n",
       "      <td>Anyone Else But You - Michael Cera &amp; Ellen Page</td>\n",
       "    </tr>\n",
       "    <tr>\n",
       "      <th>412</th>\n",
       "      <td>SOGKGLB12A81C22AFA</td>\n",
       "      <td>Drunk and Hot Girls</td>\n",
       "      <td>Graduation</td>\n",
       "      <td>Kanye West / Mos Def</td>\n",
       "      <td>2007</td>\n",
       "      <td>529b42cdbc379ad2e765aec6d3bad8a192038741</td>\n",
       "      <td>2.0</td>\n",
       "      <td>Drunk and Hot Girls - Kanye West / Mos Def</td>\n",
       "    </tr>\n",
       "    <tr>\n",
       "      <th>464</th>\n",
       "      <td>SOWZDNH12A6D4F7237</td>\n",
       "      <td>Until The Day I Die (Album Version)</td>\n",
       "      <td>Page Avenue</td>\n",
       "      <td>Story Of The Year</td>\n",
       "      <td>2003</td>\n",
       "      <td>be7bc6cf250e96f756bb042176774b8b3f9226a4</td>\n",
       "      <td>1.0</td>\n",
       "      <td>Until The Day I Die (Album Version) - Story Of...</td>\n",
       "    </tr>\n",
       "    <tr>\n",
       "      <th>484</th>\n",
       "      <td>SOQBGZD12AB0184341</td>\n",
       "      <td>Rewind (Demo)</td>\n",
       "      <td>Riot!</td>\n",
       "      <td>Paramore</td>\n",
       "      <td>0</td>\n",
       "      <td>1b704d4cddabea8258bd93497fcb73eab32fa592</td>\n",
       "      <td>2.0</td>\n",
       "      <td>Rewind (Demo) - Paramore</td>\n",
       "    </tr>\n",
       "    <tr>\n",
       "      <th>548</th>\n",
       "      <td>SOTPWHK12A8AE46DC8</td>\n",
       "      <td>Never Knew Love</td>\n",
       "      <td>Love Songs</td>\n",
       "      <td>Rick Astley</td>\n",
       "      <td>1991</td>\n",
       "      <td>178e43d9c4e6cfccf3a371aed3532bc0ef030f11</td>\n",
       "      <td>1.0</td>\n",
       "      <td>Never Knew Love - Rick Astley</td>\n",
       "    </tr>\n",
       "  </tbody>\n",
       "</table>\n",
       "</div>"
      ],
      "text/plain": [
       "                song_id                                title  \\\n",
       "245  SOSZNRJ12A8AE46E38                  Anyone Else But You   \n",
       "412  SOGKGLB12A81C22AFA                  Drunk and Hot Girls   \n",
       "464  SOWZDNH12A6D4F7237  Until The Day I Die (Album Version)   \n",
       "484  SOQBGZD12AB0184341                        Rewind (Demo)   \n",
       "548  SOTPWHK12A8AE46DC8                      Never Knew Love   \n",
       "\n",
       "                                  release                artist_name  year  \\\n",
       "245  Juno - Music From The Motion Picture  Michael Cera & Ellen Page  2007   \n",
       "412                            Graduation       Kanye West / Mos Def  2007   \n",
       "464                           Page Avenue          Story Of The Year  2003   \n",
       "484                                 Riot!                   Paramore     0   \n",
       "548                            Love Songs                Rick Astley  1991   \n",
       "\n",
       "                                      user_id  listen_count  \\\n",
       "245  d6589314c0a9bcbca4fee0c93b14bc402363afea           6.0   \n",
       "412  529b42cdbc379ad2e765aec6d3bad8a192038741           2.0   \n",
       "464  be7bc6cf250e96f756bb042176774b8b3f9226a4           1.0   \n",
       "484  1b704d4cddabea8258bd93497fcb73eab32fa592           2.0   \n",
       "548  178e43d9c4e6cfccf3a371aed3532bc0ef030f11           1.0   \n",
       "\n",
       "                                                  song  \n",
       "245    Anyone Else But You - Michael Cera & Ellen Page  \n",
       "412         Drunk and Hot Girls - Kanye West / Mos Def  \n",
       "464  Until The Day I Die (Album Version) - Story Of...  \n",
       "484                           Rewind (Demo) - Paramore  \n",
       "548                      Never Knew Love - Rick Astley  "
      ]
     },
     "execution_count": 36,
     "metadata": {},
     "output_type": "execute_result"
    }
   ],
   "source": [
    "df['song'] = df['title']+' - '+df['artist_name']\n",
    "df.head()"
   ]
  },
  {
   "cell_type": "code",
   "execution_count": 37,
   "id": "c3494b78",
   "metadata": {
    "colab": {
     "base_uri": "https://localhost:8080/",
     "height": 166
    },
    "id": "c3494b78",
    "outputId": "703d00fa-8095-4d63-e747-7fff2bff8987"
   },
   "outputs": [],
   "source": [
    "df=df[df['year']!=0]"
   ]
  },
  {
   "cell_type": "code",
   "execution_count": 38,
   "id": "360ae0b8",
   "metadata": {
    "id": "360ae0b8",
    "outputId": "b0246f22-1cb5-4b1f-def0-5d6583517e4b"
   },
   "outputs": [
    {
     "data": {
      "text/plain": [
       "1.0      4869\n",
       "2.0      1273\n",
       "3.0       619\n",
       "5.0       396\n",
       "4.0       340\n",
       "6.0       187\n",
       "7.0       116\n",
       "8.0        78\n",
       "10.0       66\n",
       "9.0        61\n",
       "11.0       48\n",
       "12.0       33\n",
       "14.0       29\n",
       "16.0       23\n",
       "15.0       23\n",
       "13.0       22\n",
       "17.0       16\n",
       "20.0       13\n",
       "18.0       12\n",
       "26.0       10\n",
       "25.0        9\n",
       "19.0        9\n",
       "22.0        9\n",
       "24.0        9\n",
       "21.0        6\n",
       "27.0        6\n",
       "28.0        6\n",
       "30.0        5\n",
       "32.0        4\n",
       "35.0        3\n",
       "31.0        3\n",
       "23.0        3\n",
       "62.0        2\n",
       "42.0        2\n",
       "39.0        2\n",
       "38.0        2\n",
       "52.0        2\n",
       "36.0        2\n",
       "41.0        2\n",
       "29.0        2\n",
       "55.0        2\n",
       "33.0        2\n",
       "60.0        2\n",
       "44.0        1\n",
       "45.0        1\n",
       "49.0        1\n",
       "107.0       1\n",
       "47.0        1\n",
       "37.0        1\n",
       "126.0       1\n",
       "140.0       1\n",
       "69.0        1\n",
       "54.0        1\n",
       "61.0        1\n",
       "74.0        1\n",
       "56.0        1\n",
       "247.0       1\n",
       "Name: listen_count, dtype: int64"
      ]
     },
     "execution_count": 38,
     "metadata": {},
     "output_type": "execute_result"
    }
   ],
   "source": [
    "df.listen_count.value_counts()"
   ]
  },
  {
   "cell_type": "code",
   "execution_count": 39,
   "id": "4f58a298",
   "metadata": {
    "id": "4f58a298",
    "outputId": "3f7d8f42-a120-43fc-8c61-d2acbe042378"
   },
   "outputs": [
    {
     "data": {
      "text/plain": [
       "57"
      ]
     },
     "execution_count": 39,
     "metadata": {},
     "output_type": "execute_result"
    }
   ],
   "source": [
    "df.listen_count.nunique()"
   ]
  },
  {
   "cell_type": "code",
   "execution_count": 40,
   "id": "2cb67652",
   "metadata": {
    "id": "2cb67652",
    "outputId": "f60f44ef-5141-4f83-8c1b-b78b8eff0633"
   },
   "outputs": [
    {
     "data": {
      "text/plain": [
       "array([2007, 2003, 1991, 2009, 2008, 2005, 2006, 2001, 1992, 1970, 1989,\n",
       "       2002, 1996, 2010, 1999, 2000, 1995, 1976, 1977, 2004, 1983, 1998,\n",
       "       1968, 1997, 1975, 1980, 1994, 1988, 1993, 1974, 1984, 1987, 1978,\n",
       "       1981, 1985, 1958, 1969, 1966, 1972, 1979, 1967, 1971, 1959, 1982,\n",
       "       1990, 1964, 1973, 1986, 1961, 1965, 1956, 1955, 1963, 1954, 1962,\n",
       "       1960, 1957], dtype=int64)"
      ]
     },
     "execution_count": 40,
     "metadata": {},
     "output_type": "execute_result"
    }
   ],
   "source": [
    "df.year.unique()"
   ]
  },
  {
   "cell_type": "code",
   "execution_count": 41,
   "id": "2f0c54b8",
   "metadata": {
    "id": "2f0c54b8",
    "outputId": "40e74f1a-0d89-4f2e-dd0e-48a92c3c7f88"
   },
   "outputs": [
    {
     "data": {
      "text/plain": [
       "57"
      ]
     },
     "execution_count": 41,
     "metadata": {},
     "output_type": "execute_result"
    }
   ],
   "source": [
    "df.year.nunique()"
   ]
  },
  {
   "cell_type": "code",
   "execution_count": 42,
   "id": "c640f6c0",
   "metadata": {},
   "outputs": [],
   "source": [
    "df = df.reset_index()"
   ]
  },
  {
   "cell_type": "markdown",
   "id": "61455051",
   "metadata": {
    "id": "61455051"
   },
   "source": [
    "## Univariate Analysis:"
   ]
  },
  {
   "cell_type": "code",
   "execution_count": 43,
   "id": "49cef093",
   "metadata": {
    "id": "49cef093",
    "outputId": "464969fc-e0e4-492e-9bde-e8af10bf36aa"
   },
   "outputs": [
    {
     "data": {
      "text/plain": [
       "<AxesSubplot:>"
      ]
     },
     "execution_count": 43,
     "metadata": {},
     "output_type": "execute_result"
    },
    {
     "data": {
      "image/png": "[encoded data removed]",
      "text/plain": [
       "<Figure size 1500x500 with 1 Axes>"
      ]
     },
     "metadata": {},
     "output_type": "display_data"
    }
   ],
   "source": [
    "##Checking for Outliers for all continuous variables:\n",
    "plt.figure(figsize=(15,5))\n",
    "df[['listen_count', 'year']].boxplot(vert=0)"
   ]
  },
  {
   "cell_type": "markdown",
   "id": "a10af823",
   "metadata": {
    "id": "a10af823"
   },
   "source": [
    "There are outliers in the variable listen_count."
   ]
  },
  {
   "cell_type": "code",
   "execution_count": 44,
   "id": "555692b4",
   "metadata": {
    "id": "555692b4",
    "outputId": "cbe37fdb-994b-4e7f-ea40-93f46bd7454a"
   },
   "outputs": [
    {
     "data": {
      "text/plain": [
       "<AxesSubplot:xlabel='listen_count'>"
      ]
     },
     "execution_count": 44,
     "metadata": {},
     "output_type": "execute_result"
    },
    {
     "data": {
      "image/png": "[encoded data removed]",
      "text/plain": [
       "<Figure size 1800x400 with 1 Axes>"
      ]
     },
     "metadata": {},
     "output_type": "display_data"
    }
   ],
   "source": [
    "import seaborn as sns\n",
    "plt.figure(figsize=(18,4))\n",
    "sns.boxplot(df['listen_count'])"
   ]
  },
  {
   "cell_type": "code",
   "execution_count": 45,
   "id": "f7d0742b",
   "metadata": {
    "id": "f7d0742b",
    "outputId": "7f93bf01-8203-4cc6-a197-b91ecd8ad7dc"
   },
   "outputs": [
    {
     "data": {
      "text/plain": [
       "Text(0.5, 1.0, 'Variation in year')"
      ]
     },
     "execution_count": 45,
     "metadata": {},
     "output_type": "execute_result"
    },
    {
     "data": {
      "image/png": "[encoded data removed]",
      "text/plain": [
       "<Figure size 800x300 with 1 Axes>"
      ]
     },
     "metadata": {},
     "output_type": "display_data"
    }
   ],
   "source": [
    "plt.figure(figsize=(8,3))\n",
    "sns.distplot(df['year'],hist=True)\n",
    "plt.title('Variation in year')"
   ]
  },
  {
   "cell_type": "markdown",
   "id": "43ad4ee9",
   "metadata": {
    "id": "43ad4ee9"
   },
   "source": [
    "Therefore, there are two peaks in the yearly density plot."
   ]
  },
  {
   "cell_type": "code",
   "execution_count": 46,
   "id": "394bf692",
   "metadata": {
    "id": "394bf692",
    "outputId": "ffc8dba3-df5e-4f05-e061-4baab21706f9"
   },
   "outputs": [
    {
     "data": {
      "text/plain": [
       "Text(0.5, 1.0, 'Variation in year')"
      ]
     },
     "execution_count": 46,
     "metadata": {},
     "output_type": "execute_result"
    },
    {
     "data": {
      "image/png": "[encoded data removed]",
      "text/plain": [
       "<Figure size 800x300 with 1 Axes>"
      ]
     },
     "metadata": {},
     "output_type": "display_data"
    }
   ],
   "source": [
    "plt.figure(figsize=(8,3))\n",
    "sns.distplot(df['listen_count'],hist=True)\n",
    "plt.title('Variation in year')"
   ]
  },
  {
   "cell_type": "code",
   "execution_count": 47,
   "id": "ac165d3e",
   "metadata": {
    "id": "ac165d3e",
    "outputId": "66be9a7c-3660-4c54-df42-7571602fe9da"
   },
   "outputs": [
    {
     "data": {
      "text/plain": [
       "Index(['index', 'song_id', 'title', 'release', 'artist_name', 'year',\n",
       "       'user_id', 'listen_count', 'song'],\n",
       "      dtype='object')"
      ]
     },
     "execution_count": 47,
     "metadata": {},
     "output_type": "execute_result"
    }
   ],
   "source": [
    "df.columns"
   ]
  },
  {
   "cell_type": "markdown",
   "id": "bbb89394",
   "metadata": {
    "id": "bbb89394"
   },
   "source": [
    "## Bi-variate analysis:"
   ]
  },
  {
   "cell_type": "code",
   "execution_count": 48,
   "id": "efbc1c60",
   "metadata": {
    "id": "efbc1c60",
    "outputId": "77ee0101-5581-484e-b689-9e77a26b9685"
   },
   "outputs": [
    {
     "data": {
      "text/plain": [
       "Text(0.5, 1.0, 'Variation in Year with respect to Listen count of the Song')"
      ]
     },
     "execution_count": 48,
     "metadata": {},
     "output_type": "execute_result"
    },
    {
     "data": {
      "image/png": "[encoded data removed]",
      "text/plain": [
       "<Figure size 800x300 with 1 Axes>"
      ]
     },
     "metadata": {},
     "output_type": "display_data"
    }
   ],
   "source": [
    "plt.figure(figsize=(8,3))\n",
    "sns.scatterplot(df['year'],df['listen_count'])\n",
    "plt.title('Variation in Year with respect to Listen count of the Song')"
   ]
  },
  {
   "cell_type": "code",
   "execution_count": 49,
   "id": "75664472",
   "metadata": {
    "id": "75664472",
    "outputId": "60cd91a6-2532-42b7-d7ed-c5b7166cc9ae"
   },
   "outputs": [
    {
     "data": {
      "text/html": [
       "<div>\n",
       "<style scoped>\n",
       "    .dataframe tbody tr th:only-of-type {\n",
       "        vertical-align: middle;\n",
       "    }\n",
       "\n",
       "    .dataframe tbody tr th {\n",
       "        vertical-align: top;\n",
       "    }\n",
       "\n",
       "    .dataframe thead th {\n",
       "        text-align: right;\n",
       "    }\n",
       "</style>\n",
       "<table border=\"1\" class=\"dataframe\">\n",
       "  <thead>\n",
       "    <tr style=\"text-align: right;\">\n",
       "      <th></th>\n",
       "      <th>song</th>\n",
       "      <th>listen_count</th>\n",
       "    </tr>\n",
       "  </thead>\n",
       "  <tbody>\n",
       "    <tr>\n",
       "      <th>0</th>\n",
       "      <td>#!*@ You Tonight [Featuring R. Kelly] (Explici...</td>\n",
       "      <td>1</td>\n",
       "    </tr>\n",
       "    <tr>\n",
       "      <th>1</th>\n",
       "      <td>#40 - DAVE MATTHEWS BAND</td>\n",
       "      <td>1</td>\n",
       "    </tr>\n",
       "    <tr>\n",
       "      <th>2</th>\n",
       "      <td>&amp; Down - Boys Noize</td>\n",
       "      <td>1</td>\n",
       "    </tr>\n",
       "    <tr>\n",
       "      <th>3</th>\n",
       "      <td>'97 Bonnie &amp; Clyde - Eminem</td>\n",
       "      <td>1</td>\n",
       "    </tr>\n",
       "    <tr>\n",
       "      <th>4</th>\n",
       "      <td>'Round Midnight - Amy Winehouse</td>\n",
       "      <td>1</td>\n",
       "    </tr>\n",
       "  </tbody>\n",
       "</table>\n",
       "</div>"
      ],
      "text/plain": [
       "                                                song  listen_count\n",
       "0  #!*@ You Tonight [Featuring R. Kelly] (Explici...             1\n",
       "1                           #40 - DAVE MATTHEWS BAND             1\n",
       "2                                & Down - Boys Noize             1\n",
       "3                        '97 Bonnie & Clyde - Eminem             1\n",
       "4                    'Round Midnight - Amy Winehouse             1"
      ]
     },
     "execution_count": 49,
     "metadata": {},
     "output_type": "execute_result"
    }
   ],
   "source": [
    "df_grouped = df.groupby(['song']).agg({'listen_count':'count'}).reset_index()\n",
    "df_grouped.head()"
   ]
  },
  {
   "cell_type": "code",
   "execution_count": 50,
   "id": "be778d79",
   "metadata": {
    "id": "be778d79",
    "outputId": "58ec22da-f725-41e5-9429-b943e5549325"
   },
   "outputs": [
    {
     "data": {
      "text/plain": [
       "(8207, 2)"
      ]
     },
     "execution_count": 50,
     "metadata": {},
     "output_type": "execute_result"
    }
   ],
   "source": [
    "df_grouped.shape"
   ]
  },
  {
   "cell_type": "code",
   "execution_count": 51,
   "id": "87522019",
   "metadata": {
    "id": "87522019",
    "outputId": "d725e74b-53cf-42d2-f10e-95a9db8f7922"
   },
   "outputs": [
    {
     "data": {
      "text/html": [
       "<div>\n",
       "<style scoped>\n",
       "    .dataframe tbody tr th:only-of-type {\n",
       "        vertical-align: middle;\n",
       "    }\n",
       "\n",
       "    .dataframe tbody tr th {\n",
       "        vertical-align: top;\n",
       "    }\n",
       "\n",
       "    .dataframe thead th {\n",
       "        text-align: right;\n",
       "    }\n",
       "</style>\n",
       "<table border=\"1\" class=\"dataframe\">\n",
       "  <thead>\n",
       "    <tr style=\"text-align: right;\">\n",
       "      <th></th>\n",
       "      <th>song</th>\n",
       "      <th>listen_count</th>\n",
       "      <th>percentage</th>\n",
       "    </tr>\n",
       "  </thead>\n",
       "  <tbody>\n",
       "    <tr>\n",
       "      <th>2324</th>\n",
       "      <td>Forever &amp; Always - Taylor Swift</td>\n",
       "      <td>4</td>\n",
       "      <td>0.047950</td>\n",
       "    </tr>\n",
       "    <tr>\n",
       "      <th>3031</th>\n",
       "      <td>Human - The Killers</td>\n",
       "      <td>4</td>\n",
       "      <td>0.047950</td>\n",
       "    </tr>\n",
       "    <tr>\n",
       "      <th>4097</th>\n",
       "      <td>Love All The Pain Away - Ronski Speed</td>\n",
       "      <td>4</td>\n",
       "      <td>0.047950</td>\n",
       "    </tr>\n",
       "    <tr>\n",
       "      <th>329</th>\n",
       "      <td>Always - Blink-182</td>\n",
       "      <td>3</td>\n",
       "      <td>0.035963</td>\n",
       "    </tr>\n",
       "    <tr>\n",
       "      <th>1772</th>\n",
       "      <td>Don't Stop The Music - Rihanna</td>\n",
       "      <td>3</td>\n",
       "      <td>0.035963</td>\n",
       "    </tr>\n",
       "    <tr>\n",
       "      <th>...</th>\n",
       "      <td>...</td>\n",
       "      <td>...</td>\n",
       "      <td>...</td>\n",
       "    </tr>\n",
       "    <tr>\n",
       "      <th>8202</th>\n",
       "      <td>teachme (Album Version) - Musiq Soulchild</td>\n",
       "      <td>1</td>\n",
       "      <td>0.011988</td>\n",
       "    </tr>\n",
       "    <tr>\n",
       "      <th>8203</th>\n",
       "      <td>the Love Song - K-OS</td>\n",
       "      <td>1</td>\n",
       "      <td>0.011988</td>\n",
       "    </tr>\n",
       "    <tr>\n",
       "      <th>8204</th>\n",
       "      <td>you were there with me - Four Tet</td>\n",
       "      <td>1</td>\n",
       "      <td>0.011988</td>\n",
       "    </tr>\n",
       "    <tr>\n",
       "      <th>8205</th>\n",
       "      <td>¡Viva La Gloria! (Album Version) - Green Day</td>\n",
       "      <td>1</td>\n",
       "      <td>0.011988</td>\n",
       "    </tr>\n",
       "    <tr>\n",
       "      <th>8206</th>\n",
       "      <td>Época - Gotan Project</td>\n",
       "      <td>1</td>\n",
       "      <td>0.011988</td>\n",
       "    </tr>\n",
       "  </tbody>\n",
       "</table>\n",
       "<p>8207 rows × 3 columns</p>\n",
       "</div>"
      ],
      "text/plain": [
       "                                              song  listen_count  percentage\n",
       "2324               Forever & Always - Taylor Swift             4    0.047950\n",
       "3031                           Human - The Killers             4    0.047950\n",
       "4097         Love All The Pain Away - Ronski Speed             4    0.047950\n",
       "329                             Always - Blink-182             3    0.035963\n",
       "1772                Don't Stop The Music - Rihanna             3    0.035963\n",
       "...                                            ...           ...         ...\n",
       "8202     teachme (Album Version) - Musiq Soulchild             1    0.011988\n",
       "8203                          the Love Song - K-OS             1    0.011988\n",
       "8204             you were there with me - Four Tet             1    0.011988\n",
       "8205  ¡Viva La Gloria! (Album Version) - Green Day             1    0.011988\n",
       "8206                         Época - Gotan Project             1    0.011988\n",
       "\n",
       "[8207 rows x 3 columns]"
      ]
     },
     "execution_count": 51,
     "metadata": {},
     "output_type": "execute_result"
    }
   ],
   "source": [
    "df_grouped_sum = df_grouped['listen_count'].sum()\n",
    "df_grouped['percentage'] = (df_grouped['listen_count'] / df_grouped_sum ) * 100\n",
    "df_grouped.sort_values(['listen_count', 'song'], ascending=[0,1])"
   ]
  },
  {
   "cell_type": "code",
   "execution_count": 104,
   "id": "a38430b8",
   "metadata": {},
   "outputs": [],
   "source": [
    "#df = df.reset_index()"
   ]
  },
  {
   "cell_type": "code",
   "execution_count": 52,
   "id": "9c00bb68",
   "metadata": {
    "id": "9c00bb68"
   },
   "outputs": [],
   "source": [
    "df['table_index'] = df.index"
   ]
  },
  {
   "cell_type": "code",
   "execution_count": 53,
   "id": "e9798517",
   "metadata": {
    "id": "e9798517"
   },
   "outputs": [
    {
     "data": {
      "text/html": [
       "<div>\n",
       "<style scoped>\n",
       "    .dataframe tbody tr th:only-of-type {\n",
       "        vertical-align: middle;\n",
       "    }\n",
       "\n",
       "    .dataframe tbody tr th {\n",
       "        vertical-align: top;\n",
       "    }\n",
       "\n",
       "    .dataframe thead th {\n",
       "        text-align: right;\n",
       "    }\n",
       "</style>\n",
       "<table border=\"1\" class=\"dataframe\">\n",
       "  <thead>\n",
       "    <tr style=\"text-align: right;\">\n",
       "      <th></th>\n",
       "      <th>index</th>\n",
       "      <th>song_id</th>\n",
       "      <th>title</th>\n",
       "      <th>release</th>\n",
       "      <th>artist_name</th>\n",
       "      <th>year</th>\n",
       "      <th>user_id</th>\n",
       "      <th>listen_count</th>\n",
       "      <th>song</th>\n",
       "      <th>table_index</th>\n",
       "    </tr>\n",
       "  </thead>\n",
       "  <tbody>\n",
       "    <tr>\n",
       "      <th>0</th>\n",
       "      <td>245</td>\n",
       "      <td>SOSZNRJ12A8AE46E38</td>\n",
       "      <td>Anyone Else But You</td>\n",
       "      <td>Juno - Music From The Motion Picture</td>\n",
       "      <td>Michael Cera &amp; Ellen Page</td>\n",
       "      <td>2007</td>\n",
       "      <td>d6589314c0a9bcbca4fee0c93b14bc402363afea</td>\n",
       "      <td>6.0</td>\n",
       "      <td>Anyone Else But You - Michael Cera &amp; Ellen Page</td>\n",
       "      <td>0</td>\n",
       "    </tr>\n",
       "    <tr>\n",
       "      <th>1</th>\n",
       "      <td>412</td>\n",
       "      <td>SOGKGLB12A81C22AFA</td>\n",
       "      <td>Drunk and Hot Girls</td>\n",
       "      <td>Graduation</td>\n",
       "      <td>Kanye West / Mos Def</td>\n",
       "      <td>2007</td>\n",
       "      <td>529b42cdbc379ad2e765aec6d3bad8a192038741</td>\n",
       "      <td>2.0</td>\n",
       "      <td>Drunk and Hot Girls - Kanye West / Mos Def</td>\n",
       "      <td>1</td>\n",
       "    </tr>\n",
       "    <tr>\n",
       "      <th>2</th>\n",
       "      <td>464</td>\n",
       "      <td>SOWZDNH12A6D4F7237</td>\n",
       "      <td>Until The Day I Die (Album Version)</td>\n",
       "      <td>Page Avenue</td>\n",
       "      <td>Story Of The Year</td>\n",
       "      <td>2003</td>\n",
       "      <td>be7bc6cf250e96f756bb042176774b8b3f9226a4</td>\n",
       "      <td>1.0</td>\n",
       "      <td>Until The Day I Die (Album Version) - Story Of...</td>\n",
       "      <td>2</td>\n",
       "    </tr>\n",
       "    <tr>\n",
       "      <th>3</th>\n",
       "      <td>548</td>\n",
       "      <td>SOTPWHK12A8AE46DC8</td>\n",
       "      <td>Never Knew Love</td>\n",
       "      <td>Love Songs</td>\n",
       "      <td>Rick Astley</td>\n",
       "      <td>1991</td>\n",
       "      <td>178e43d9c4e6cfccf3a371aed3532bc0ef030f11</td>\n",
       "      <td>1.0</td>\n",
       "      <td>Never Knew Love - Rick Astley</td>\n",
       "      <td>3</td>\n",
       "    </tr>\n",
       "    <tr>\n",
       "      <th>4</th>\n",
       "      <td>634</td>\n",
       "      <td>SOBQZKH12A8AE48A02</td>\n",
       "      <td>Heroes Get Remembered_ Legends Never Die</td>\n",
       "      <td>Rise Or Die Trying</td>\n",
       "      <td>Four Year Strong</td>\n",
       "      <td>2007</td>\n",
       "      <td>76235885b32c4e8c82760c340dc54f9b608d7d7e</td>\n",
       "      <td>1.0</td>\n",
       "      <td>Heroes Get Remembered_ Legends Never Die - Fou...</td>\n",
       "      <td>4</td>\n",
       "    </tr>\n",
       "  </tbody>\n",
       "</table>\n",
       "</div>"
      ],
      "text/plain": [
       "   index             song_id                                     title  \\\n",
       "0    245  SOSZNRJ12A8AE46E38                       Anyone Else But You   \n",
       "1    412  SOGKGLB12A81C22AFA                       Drunk and Hot Girls   \n",
       "2    464  SOWZDNH12A6D4F7237       Until The Day I Die (Album Version)   \n",
       "3    548  SOTPWHK12A8AE46DC8                           Never Knew Love   \n",
       "4    634  SOBQZKH12A8AE48A02  Heroes Get Remembered_ Legends Never Die   \n",
       "\n",
       "                                release                artist_name  year  \\\n",
       "0  Juno - Music From The Motion Picture  Michael Cera & Ellen Page  2007   \n",
       "1                            Graduation       Kanye West / Mos Def  2007   \n",
       "2                           Page Avenue          Story Of The Year  2003   \n",
       "3                            Love Songs                Rick Astley  1991   \n",
       "4                    Rise Or Die Trying           Four Year Strong  2007   \n",
       "\n",
       "                                    user_id  listen_count  \\\n",
       "0  d6589314c0a9bcbca4fee0c93b14bc402363afea           6.0   \n",
       "1  529b42cdbc379ad2e765aec6d3bad8a192038741           2.0   \n",
       "2  be7bc6cf250e96f756bb042176774b8b3f9226a4           1.0   \n",
       "3  178e43d9c4e6cfccf3a371aed3532bc0ef030f11           1.0   \n",
       "4  76235885b32c4e8c82760c340dc54f9b608d7d7e           1.0   \n",
       "\n",
       "                                                song  table_index  \n",
       "0    Anyone Else But You - Michael Cera & Ellen Page            0  \n",
       "1         Drunk and Hot Girls - Kanye West / Mos Def            1  \n",
       "2  Until The Day I Die (Album Version) - Story Of...            2  \n",
       "3                      Never Knew Love - Rick Astley            3  \n",
       "4  Heroes Get Remembered_ Legends Never Die - Fou...            4  "
      ]
     },
     "execution_count": 53,
     "metadata": {},
     "output_type": "execute_result"
    }
   ],
   "source": [
    "df.head()"
   ]
  },
  {
   "cell_type": "code",
   "execution_count": 54,
   "id": "3d0bef37",
   "metadata": {},
   "outputs": [],
   "source": [
    "df['listen_count'] = np.random.randint(1,3, size=len(df))"
   ]
  },
  {
   "cell_type": "code",
   "execution_count": 55,
   "id": "9a3d4a9b",
   "metadata": {},
   "outputs": [
    {
     "data": {
      "text/html": [
       "<div>\n",
       "<style scoped>\n",
       "    .dataframe tbody tr th:only-of-type {\n",
       "        vertical-align: middle;\n",
       "    }\n",
       "\n",
       "    .dataframe tbody tr th {\n",
       "        vertical-align: top;\n",
       "    }\n",
       "\n",
       "    .dataframe thead th {\n",
       "        text-align: right;\n",
       "    }\n",
       "</style>\n",
       "<table border=\"1\" class=\"dataframe\">\n",
       "  <thead>\n",
       "    <tr style=\"text-align: right;\">\n",
       "      <th></th>\n",
       "      <th>index</th>\n",
       "      <th>song_id</th>\n",
       "      <th>title</th>\n",
       "      <th>release</th>\n",
       "      <th>artist_name</th>\n",
       "      <th>year</th>\n",
       "      <th>user_id</th>\n",
       "      <th>listen_count</th>\n",
       "      <th>song</th>\n",
       "      <th>table_index</th>\n",
       "    </tr>\n",
       "  </thead>\n",
       "  <tbody>\n",
       "    <tr>\n",
       "      <th>0</th>\n",
       "      <td>245</td>\n",
       "      <td>SOSZNRJ12A8AE46E38</td>\n",
       "      <td>Anyone Else But You</td>\n",
       "      <td>Juno - Music From The Motion Picture</td>\n",
       "      <td>Michael Cera &amp; Ellen Page</td>\n",
       "      <td>2007</td>\n",
       "      <td>d6589314c0a9bcbca4fee0c93b14bc402363afea</td>\n",
       "      <td>1</td>\n",
       "      <td>Anyone Else But You - Michael Cera &amp; Ellen Page</td>\n",
       "      <td>0</td>\n",
       "    </tr>\n",
       "    <tr>\n",
       "      <th>1</th>\n",
       "      <td>412</td>\n",
       "      <td>SOGKGLB12A81C22AFA</td>\n",
       "      <td>Drunk and Hot Girls</td>\n",
       "      <td>Graduation</td>\n",
       "      <td>Kanye West / Mos Def</td>\n",
       "      <td>2007</td>\n",
       "      <td>529b42cdbc379ad2e765aec6d3bad8a192038741</td>\n",
       "      <td>1</td>\n",
       "      <td>Drunk and Hot Girls - Kanye West / Mos Def</td>\n",
       "      <td>1</td>\n",
       "    </tr>\n",
       "    <tr>\n",
       "      <th>2</th>\n",
       "      <td>464</td>\n",
       "      <td>SOWZDNH12A6D4F7237</td>\n",
       "      <td>Until The Day I Die (Album Version)</td>\n",
       "      <td>Page Avenue</td>\n",
       "      <td>Story Of The Year</td>\n",
       "      <td>2003</td>\n",
       "      <td>be7bc6cf250e96f756bb042176774b8b3f9226a4</td>\n",
       "      <td>1</td>\n",
       "      <td>Until The Day I Die (Album Version) - Story Of...</td>\n",
       "      <td>2</td>\n",
       "    </tr>\n",
       "    <tr>\n",
       "      <th>3</th>\n",
       "      <td>548</td>\n",
       "      <td>SOTPWHK12A8AE46DC8</td>\n",
       "      <td>Never Knew Love</td>\n",
       "      <td>Love Songs</td>\n",
       "      <td>Rick Astley</td>\n",
       "      <td>1991</td>\n",
       "      <td>178e43d9c4e6cfccf3a371aed3532bc0ef030f11</td>\n",
       "      <td>2</td>\n",
       "      <td>Never Knew Love - Rick Astley</td>\n",
       "      <td>3</td>\n",
       "    </tr>\n",
       "    <tr>\n",
       "      <th>4</th>\n",
       "      <td>634</td>\n",
       "      <td>SOBQZKH12A8AE48A02</td>\n",
       "      <td>Heroes Get Remembered_ Legends Never Die</td>\n",
       "      <td>Rise Or Die Trying</td>\n",
       "      <td>Four Year Strong</td>\n",
       "      <td>2007</td>\n",
       "      <td>76235885b32c4e8c82760c340dc54f9b608d7d7e</td>\n",
       "      <td>1</td>\n",
       "      <td>Heroes Get Remembered_ Legends Never Die - Fou...</td>\n",
       "      <td>4</td>\n",
       "    </tr>\n",
       "  </tbody>\n",
       "</table>\n",
       "</div>"
      ],
      "text/plain": [
       "   index             song_id                                     title  \\\n",
       "0    245  SOSZNRJ12A8AE46E38                       Anyone Else But You   \n",
       "1    412  SOGKGLB12A81C22AFA                       Drunk and Hot Girls   \n",
       "2    464  SOWZDNH12A6D4F7237       Until The Day I Die (Album Version)   \n",
       "3    548  SOTPWHK12A8AE46DC8                           Never Knew Love   \n",
       "4    634  SOBQZKH12A8AE48A02  Heroes Get Remembered_ Legends Never Die   \n",
       "\n",
       "                                release                artist_name  year  \\\n",
       "0  Juno - Music From The Motion Picture  Michael Cera & Ellen Page  2007   \n",
       "1                            Graduation       Kanye West / Mos Def  2007   \n",
       "2                           Page Avenue          Story Of The Year  2003   \n",
       "3                            Love Songs                Rick Astley  1991   \n",
       "4                    Rise Or Die Trying           Four Year Strong  2007   \n",
       "\n",
       "                                    user_id  listen_count  \\\n",
       "0  d6589314c0a9bcbca4fee0c93b14bc402363afea             1   \n",
       "1  529b42cdbc379ad2e765aec6d3bad8a192038741             1   \n",
       "2  be7bc6cf250e96f756bb042176774b8b3f9226a4             1   \n",
       "3  178e43d9c4e6cfccf3a371aed3532bc0ef030f11             2   \n",
       "4  76235885b32c4e8c82760c340dc54f9b608d7d7e             1   \n",
       "\n",
       "                                                song  table_index  \n",
       "0    Anyone Else But You - Michael Cera & Ellen Page            0  \n",
       "1         Drunk and Hot Girls - Kanye West / Mos Def            1  \n",
       "2  Until The Day I Die (Album Version) - Story Of...            2  \n",
       "3                      Never Knew Love - Rick Astley            3  \n",
       "4  Heroes Get Remembered_ Legends Never Die - Fou...            4  "
      ]
     },
     "execution_count": 55,
     "metadata": {},
     "output_type": "execute_result"
    }
   ],
   "source": [
    "df.head()"
   ]
  },
  {
   "cell_type": "code",
   "execution_count": 56,
   "id": "d776bad9",
   "metadata": {},
   "outputs": [
    {
     "data": {
      "text/plain": [
       "8342"
      ]
     },
     "execution_count": 56,
     "metadata": {},
     "output_type": "execute_result"
    }
   ],
   "source": [
    "len(df)"
   ]
  },
  {
   "cell_type": "code",
   "execution_count": 57,
   "id": "c4829a4e",
   "metadata": {},
   "outputs": [],
   "source": [
    "df_1 = df[['table_index','listen_count']]"
   ]
  },
  {
   "cell_type": "code",
   "execution_count": 58,
   "id": "6ea47182",
   "metadata": {},
   "outputs": [
    {
     "data": {
      "text/html": [
       "<div>\n",
       "<style scoped>\n",
       "    .dataframe tbody tr th:only-of-type {\n",
       "        vertical-align: middle;\n",
       "    }\n",
       "\n",
       "    .dataframe tbody tr th {\n",
       "        vertical-align: top;\n",
       "    }\n",
       "\n",
       "    .dataframe thead th {\n",
       "        text-align: right;\n",
       "    }\n",
       "</style>\n",
       "<table border=\"1\" class=\"dataframe\">\n",
       "  <thead>\n",
       "    <tr style=\"text-align: right;\">\n",
       "      <th></th>\n",
       "      <th>table_index</th>\n",
       "      <th>listen_count</th>\n",
       "    </tr>\n",
       "  </thead>\n",
       "  <tbody>\n",
       "    <tr>\n",
       "      <th>0</th>\n",
       "      <td>0</td>\n",
       "      <td>1</td>\n",
       "    </tr>\n",
       "    <tr>\n",
       "      <th>1</th>\n",
       "      <td>1</td>\n",
       "      <td>1</td>\n",
       "    </tr>\n",
       "    <tr>\n",
       "      <th>2</th>\n",
       "      <td>2</td>\n",
       "      <td>1</td>\n",
       "    </tr>\n",
       "    <tr>\n",
       "      <th>3</th>\n",
       "      <td>3</td>\n",
       "      <td>2</td>\n",
       "    </tr>\n",
       "    <tr>\n",
       "      <th>4</th>\n",
       "      <td>4</td>\n",
       "      <td>1</td>\n",
       "    </tr>\n",
       "  </tbody>\n",
       "</table>\n",
       "</div>"
      ],
      "text/plain": [
       "   table_index  listen_count\n",
       "0            0             1\n",
       "1            1             1\n",
       "2            2             1\n",
       "3            3             2\n",
       "4            4             1"
      ]
     },
     "execution_count": 58,
     "metadata": {},
     "output_type": "execute_result"
    }
   ],
   "source": [
    "df_1.head(5)"
   ]
  },
  {
   "cell_type": "code",
   "execution_count": 59,
   "id": "039c3b67",
   "metadata": {},
   "outputs": [],
   "source": [
    "df_2 = df_1.iloc[0:8000]"
   ]
  },
  {
   "cell_type": "code",
   "execution_count": 60,
   "id": "68a49a0e",
   "metadata": {},
   "outputs": [],
   "source": [
    "X = df_2['table_index'].array.reshape(-1,1)\n",
    "y = df_2['listen_count'].array.reshape(-1,1)"
   ]
  },
  {
   "cell_type": "code",
   "execution_count": 61,
   "id": "46831fcb",
   "metadata": {},
   "outputs": [],
   "source": [
    "from sklearn.model_selection import train_test_split\n",
    "\n",
    "SEED = 42\n",
    "X_train, X_test, y_train, y_test = train_test_split(X, y, test_size=0.10, random_state=SEED)"
   ]
  },
  {
   "cell_type": "code",
   "execution_count": 62,
   "id": "ea880f56",
   "metadata": {},
   "outputs": [],
   "source": [
    "from sklearn.preprocessing import StandardScaler\n",
    "\n",
    "scaler = StandardScaler()\n",
    "scaler.fit(X_train)\n",
    "\n",
    "X_train = scaler.transform(X_train)\n",
    "X_test = scaler.transform(X_test)"
   ]
  },
  {
   "cell_type": "code",
   "execution_count": 63,
   "id": "43fe6f0c",
   "metadata": {},
   "outputs": [
    {
     "data": {
      "text/html": [
       "<style>#sk-container-id-1 {color: black;background-color: white;}#sk-container-id-1 pre{padding: 0;}#sk-container-id-1 div.sk-toggleable {background-color: white;}#sk-container-id-1 label.sk-toggleable__label {cursor: pointer;display: block;width: 100%;margin-bottom: 0;padding: 0.3em;box-sizing: border-box;text-align: center;}#sk-container-id-1 label.sk-toggleable__label-arrow:before {content: \"▸\";float: left;margin-right: 0.25em;color: #696969;}#sk-container-id-1 label.sk-toggleable__label-arrow:hover:before {color: black;}#sk-container-id-1 div.sk-estimator:hover label.sk-toggleable__label-arrow:before {color: black;}#sk-container-id-1 div.sk-toggleable__content {max-height: 0;max-width: 0;overflow: hidden;text-align: left;background-color: #f0f8ff;}#sk-container-id-1 div.sk-toggleable__content pre {margin: 0.2em;color: black;border-radius: 0.25em;background-color: #f0f8ff;}#sk-container-id-1 input.sk-toggleable__control:checked~div.sk-toggleable__content {max-height: 200px;max-width: 100%;overflow: auto;}#sk-container-id-1 input.sk-toggleable__control:checked~label.sk-toggleable__label-arrow:before {content: \"▾\";}#sk-container-id-1 div.sk-estimator input.sk-toggleable__control:checked~label.sk-toggleable__label {background-color: #d4ebff;}#sk-container-id-1 div.sk-label input.sk-toggleable__control:checked~label.sk-toggleable__label {background-color: #d4ebff;}#sk-container-id-1 input.sk-hidden--visually {border: 0;clip: rect(1px 1px 1px 1px);clip: rect(1px, 1px, 1px, 1px);height: 1px;margin: -1px;overflow: hidden;padding: 0;position: absolute;width: 1px;}#sk-container-id-1 div.sk-estimator {font-family: monospace;background-color: #f0f8ff;border: 1px dotted black;border-radius: 0.25em;box-sizing: border-box;margin-bottom: 0.5em;}#sk-container-id-1 div.sk-estimator:hover {background-color: #d4ebff;}#sk-container-id-1 div.sk-parallel-item::after {content: \"\";width: 100%;border-bottom: 1px solid gray;flex-grow: 1;}#sk-container-id-1 div.sk-label:hover label.sk-toggleable__label {background-color: #d4ebff;}#sk-container-id-1 div.sk-serial::before {content: \"\";position: absolute;border-left: 1px solid gray;box-sizing: border-box;top: 0;bottom: 0;left: 50%;z-index: 0;}#sk-container-id-1 div.sk-serial {display: flex;flex-direction: column;align-items: center;background-color: white;padding-right: 0.2em;padding-left: 0.2em;position: relative;}#sk-container-id-1 div.sk-item {position: relative;z-index: 1;}#sk-container-id-1 div.sk-parallel {display: flex;align-items: stretch;justify-content: center;background-color: white;position: relative;}#sk-container-id-1 div.sk-item::before, #sk-container-id-1 div.sk-parallel-item::before {content: \"\";position: absolute;border-left: 1px solid gray;box-sizing: border-box;top: 0;bottom: 0;left: 50%;z-index: -1;}#sk-container-id-1 div.sk-parallel-item {display: flex;flex-direction: column;z-index: 1;position: relative;background-color: white;}#sk-container-id-1 div.sk-parallel-item:first-child::after {align-self: flex-end;width: 50%;}#sk-container-id-1 div.sk-parallel-item:last-child::after {align-self: flex-start;width: 50%;}#sk-container-id-1 div.sk-parallel-item:only-child::after {width: 0;}#sk-container-id-1 div.sk-dashed-wrapped {border: 1px dashed gray;margin: 0 0.4em 0.5em 0.4em;box-sizing: border-box;padding-bottom: 0.4em;background-color: white;}#sk-container-id-1 div.sk-label label {font-family: monospace;font-weight: bold;display: inline-block;line-height: 1.2em;}#sk-container-id-1 div.sk-label-container {text-align: center;}#sk-container-id-1 div.sk-container {/* jupyter's `normalize.less` sets `[hidden] { display: none; }` but bootstrap.min.css set `[hidden] { display: none !important; }` so we also need the `!important` here to be able to override the default hidden behavior on the sphinx rendered scikit-learn.org. See: https://github.com/scikit-learn/scikit-learn/issues/21755 */display: inline-block !important;position: relative;}#sk-container-id-1 div.sk-text-repr-fallback {display: none;}</style><div id=\"sk-container-id-1\" class=\"sk-top-container\"><div class=\"sk-text-repr-fallback\"><pre>KNeighborsClassifier()</pre><b>In a Jupyter environment, please rerun this cell to show the HTML representation or trust the notebook. <br />On GitHub, the HTML representation is unable to render, please try loading this page with nbviewer.org.</b></div><div class=\"sk-container\" hidden><div class=\"sk-item\"><div class=\"sk-estimator sk-toggleable\"><input class=\"sk-toggleable__control sk-hidden--visually\" id=\"sk-estimator-id-1\" type=\"checkbox\" checked><label for=\"sk-estimator-id-1\" class=\"sk-toggleable__label sk-toggleable__label-arrow\">KNeighborsClassifier</label><div class=\"sk-toggleable__content\"><pre>KNeighborsClassifier()</pre></div></div></div></div></div>"
      ],
      "text/plain": [
       "KNeighborsClassifier()"
      ]
     },
     "execution_count": 63,
     "metadata": {},
     "output_type": "execute_result"
    }
   ],
   "source": [
    "from sklearn.neighbors import KNeighborsClassifier\n",
    "\n",
    "classifier = KNeighborsClassifier()\n",
    "classifier.fit(X_train, y_train)"
   ]
  },
  {
   "cell_type": "code",
   "execution_count": 64,
   "id": "22a9d1ea",
   "metadata": {},
   "outputs": [],
   "source": [
    "y_pred = classifier.predict(X_test)"
   ]
  },
  {
   "cell_type": "code",
   "execution_count": 65,
   "id": "b7f5947f",
   "metadata": {},
   "outputs": [
    {
     "name": "stdout",
     "output_type": "stream",
     "text": [
      "0.52875\n"
     ]
    }
   ],
   "source": [
    "acc =  classifier.score(X_test, y_test)\n",
    "print(acc)"
   ]
  },
  {
   "cell_type": "code",
   "execution_count": 66,
   "id": "8599b0c2",
   "metadata": {},
   "outputs": [
    {
     "name": "stdout",
     "output_type": "stream",
     "text": [
      "              precision    recall  f1-score   support\n",
      "\n",
      "           1       0.53      0.53      0.53       402\n",
      "           2       0.53      0.52      0.52       398\n",
      "\n",
      "    accuracy                           0.53       800\n",
      "   macro avg       0.53      0.53      0.53       800\n",
      "weighted avg       0.53      0.53      0.53       800\n",
      "\n"
     ]
    },
    {
     "data": {
      "image/png": "[encoded data removed]",
      "text/plain": [
       "<Figure size 640x480 with 2 Axes>"
      ]
     },
     "metadata": {},
     "output_type": "display_data"
    }
   ],
   "source": [
    "from sklearn.metrics import classification_report, confusion_matrix\n",
    "import seaborn as sns\n",
    "\n",
    "classes_names = ['class 1','class 2']\n",
    "cm = pd.DataFrame(confusion_matrix(y_test, y_pred), \n",
    "                  columns=classes_names, index = classes_names)\n",
    "                  \n",
    "# Seaborn's heatmap to better visualize the confusion matrix\n",
    "sns.heatmap(cm, annot=True, fmt='d');\n",
    "\n",
    "print(classification_report(y_test, y_pred))"
   ]
  },
  {
   "cell_type": "code",
   "execution_count": 68,
   "id": "ec757f5c",
   "metadata": {},
   "outputs": [
    {
     "data": {
      "text/html": [
       "<style>#sk-container-id-3 {color: black;background-color: white;}#sk-container-id-3 pre{padding: 0;}#sk-container-id-3 div.sk-toggleable {background-color: white;}#sk-container-id-3 label.sk-toggleable__label {cursor: pointer;display: block;width: 100%;margin-bottom: 0;padding: 0.3em;box-sizing: border-box;text-align: center;}#sk-container-id-3 label.sk-toggleable__label-arrow:before {content: \"▸\";float: left;margin-right: 0.25em;color: #696969;}#sk-container-id-3 label.sk-toggleable__label-arrow:hover:before {color: black;}#sk-container-id-3 div.sk-estimator:hover label.sk-toggleable__label-arrow:before {color: black;}#sk-container-id-3 div.sk-toggleable__content {max-height: 0;max-width: 0;overflow: hidden;text-align: left;background-color: #f0f8ff;}#sk-container-id-3 div.sk-toggleable__content pre {margin: 0.2em;color: black;border-radius: 0.25em;background-color: #f0f8ff;}#sk-container-id-3 input.sk-toggleable__control:checked~div.sk-toggleable__content {max-height: 200px;max-width: 100%;overflow: auto;}#sk-container-id-3 input.sk-toggleable__control:checked~label.sk-toggleable__label-arrow:before {content: \"▾\";}#sk-container-id-3 div.sk-estimator input.sk-toggleable__control:checked~label.sk-toggleable__label {background-color: #d4ebff;}#sk-container-id-3 div.sk-label input.sk-toggleable__control:checked~label.sk-toggleable__label {background-color: #d4ebff;}#sk-container-id-3 input.sk-hidden--visually {border: 0;clip: rect(1px 1px 1px 1px);clip: rect(1px, 1px, 1px, 1px);height: 1px;margin: -1px;overflow: hidden;padding: 0;position: absolute;width: 1px;}#sk-container-id-3 div.sk-estimator {font-family: monospace;background-color: #f0f8ff;border: 1px dotted black;border-radius: 0.25em;box-sizing: border-box;margin-bottom: 0.5em;}#sk-container-id-3 div.sk-estimator:hover {background-color: #d4ebff;}#sk-container-id-3 div.sk-parallel-item::after {content: \"\";width: 100%;border-bottom: 1px solid gray;flex-grow: 1;}#sk-container-id-3 div.sk-label:hover label.sk-toggleable__label {background-color: #d4ebff;}#sk-container-id-3 div.sk-serial::before {content: \"\";position: absolute;border-left: 1px solid gray;box-sizing: border-box;top: 0;bottom: 0;left: 50%;z-index: 0;}#sk-container-id-3 div.sk-serial {display: flex;flex-direction: column;align-items: center;background-color: white;padding-right: 0.2em;padding-left: 0.2em;position: relative;}#sk-container-id-3 div.sk-item {position: relative;z-index: 1;}#sk-container-id-3 div.sk-parallel {display: flex;align-items: stretch;justify-content: center;background-color: white;position: relative;}#sk-container-id-3 div.sk-item::before, #sk-container-id-3 div.sk-parallel-item::before {content: \"\";position: absolute;border-left: 1px solid gray;box-sizing: border-box;top: 0;bottom: 0;left: 50%;z-index: -1;}#sk-container-id-3 div.sk-parallel-item {display: flex;flex-direction: column;z-index: 1;position: relative;background-color: white;}#sk-container-id-3 div.sk-parallel-item:first-child::after {align-self: flex-end;width: 50%;}#sk-container-id-3 div.sk-parallel-item:last-child::after {align-self: flex-start;width: 50%;}#sk-container-id-3 div.sk-parallel-item:only-child::after {width: 0;}#sk-container-id-3 div.sk-dashed-wrapped {border: 1px dashed gray;margin: 0 0.4em 0.5em 0.4em;box-sizing: border-box;padding-bottom: 0.4em;background-color: white;}#sk-container-id-3 div.sk-label label {font-family: monospace;font-weight: bold;display: inline-block;line-height: 1.2em;}#sk-container-id-3 div.sk-label-container {text-align: center;}#sk-container-id-3 div.sk-container {/* jupyter's `normalize.less` sets `[hidden] { display: none; }` but bootstrap.min.css set `[hidden] { display: none !important; }` so we also need the `!important` here to be able to override the default hidden behavior on the sphinx rendered scikit-learn.org. See: https://github.com/scikit-learn/scikit-learn/issues/21755 */display: inline-block !important;position: relative;}#sk-container-id-3 div.sk-text-repr-fallback {display: none;}</style><div id=\"sk-container-id-3\" class=\"sk-top-container\"><div class=\"sk-text-repr-fallback\"><pre>NearestNeighbors(algorithm=&#x27;brute&#x27;, metric=&#x27;euclidean&#x27;)</pre><b>In a Jupyter environment, please rerun this cell to show the HTML representation or trust the notebook. <br />On GitHub, the HTML representation is unable to render, please try loading this page with nbviewer.org.</b></div><div class=\"sk-container\" hidden><div class=\"sk-item\"><div class=\"sk-estimator sk-toggleable\"><input class=\"sk-toggleable__control sk-hidden--visually\" id=\"sk-estimator-id-3\" type=\"checkbox\" checked><label for=\"sk-estimator-id-3\" class=\"sk-toggleable__label sk-toggleable__label-arrow\">NearestNeighbors</label><div class=\"sk-toggleable__content\"><pre>NearestNeighbors(algorithm=&#x27;brute&#x27;, metric=&#x27;euclidean&#x27;)</pre></div></div></div></div></div>"
      ],
      "text/plain": [
       "NearestNeighbors(algorithm='brute', metric='euclidean')"
      ]
     },
     "execution_count": 68,
     "metadata": {},
     "output_type": "execute_result"
    }
   ],
   "source": [
    "#euclidean method\n",
    "from sklearn.neighbors import NearestNeighbors\n",
    "knn = NearestNeighbors(metric='euclidean',algorithm='brute')\n",
    "knn.fit(df_2.values)"
   ]
  },
  {
   "cell_type": "code",
   "execution_count": 69,
   "id": "6613b05d",
   "metadata": {},
   "outputs": [],
   "source": [
    "distances,indices = knn.kneighbors(df_1,n_neighbors=3)"
   ]
  },
  {
   "cell_type": "code",
   "execution_count": 70,
   "id": "5fb251e8",
   "metadata": {},
   "outputs": [
    {
     "data": {
      "text/plain": [
       "array([[   0,    1,    2],\n",
       "       [   1,    0,    2],\n",
       "       [   2,    1,    3],\n",
       "       ...,\n",
       "       [7999, 7998, 7997],\n",
       "       [7999, 7998, 7997],\n",
       "       [7999, 7998, 7997]], dtype=int64)"
      ]
     },
     "execution_count": 70,
     "metadata": {},
     "output_type": "execute_result"
    }
   ],
   "source": [
    "indices"
   ]
  },
  {
   "cell_type": "code",
   "execution_count": 71,
   "id": "ef709c97",
   "metadata": {},
   "outputs": [
    {
     "data": {
      "text/plain": [
       "array([[  0.        ,   1.        ,   2.        ],\n",
       "       [  0.        ,   1.        ,   1.        ],\n",
       "       [  0.        ,   1.        ,   1.41421356],\n",
       "       ...,\n",
       "       [340.00147059, 341.        , 342.        ],\n",
       "       [341.        , 342.00146199, 343.00145772],\n",
       "       [342.00146199, 343.        , 344.        ]])"
      ]
     },
     "execution_count": 71,
     "metadata": {},
     "output_type": "execute_result"
    }
   ],
   "source": [
    "distances"
   ]
  },
  {
   "cell_type": "code",
   "execution_count": 72,
   "id": "e8ce6cf4",
   "metadata": {},
   "outputs": [],
   "source": [
    "index_for_song = df_2.index.tolist().index(56)"
   ]
  },
  {
   "cell_type": "code",
   "execution_count": 73,
   "id": "aa5f292d",
   "metadata": {},
   "outputs": [
    {
     "data": {
      "text/plain": [
       "56"
      ]
     },
     "execution_count": 73,
     "metadata": {},
     "output_type": "execute_result"
    }
   ],
   "source": [
    "index_for_song"
   ]
  },
  {
   "cell_type": "code",
   "execution_count": 74,
   "id": "4b6e041d",
   "metadata": {},
   "outputs": [],
   "source": [
    "sim_songs = indices[index_for_song].tolist()"
   ]
  },
  {
   "cell_type": "code",
   "execution_count": 75,
   "id": "047b3986",
   "metadata": {},
   "outputs": [],
   "source": [
    "song_distances = distances[index_for_song].tolist()"
   ]
  },
  {
   "cell_type": "code",
   "execution_count": 76,
   "id": "76a9c990",
   "metadata": {},
   "outputs": [
    {
     "data": {
      "text/plain": [
       "[0.0, 1.4142135623730951, 1.4142135623730951]"
      ]
     },
     "execution_count": 76,
     "metadata": {},
     "output_type": "execute_result"
    }
   ],
   "source": [
    "song_distances"
   ]
  },
  {
   "cell_type": "code",
   "execution_count": 77,
   "id": "4f10dfc5",
   "metadata": {},
   "outputs": [],
   "source": [
    "id_song = sim_songs.index(index_for_song)"
   ]
  },
  {
   "cell_type": "code",
   "execution_count": 78,
   "id": "814be89c",
   "metadata": {},
   "outputs": [
    {
     "data": {
      "text/plain": [
       "0"
      ]
     },
     "execution_count": 78,
     "metadata": {},
     "output_type": "execute_result"
    }
   ],
   "source": [
    "id_song"
   ]
  },
  {
   "cell_type": "code",
   "execution_count": 79,
   "id": "43aa1141",
   "metadata": {},
   "outputs": [
    {
     "data": {
      "text/plain": [
       "0.0"
      ]
     },
     "execution_count": 79,
     "metadata": {},
     "output_type": "execute_result"
    }
   ],
   "source": [
    "song_distances.pop(id_song)"
   ]
  },
  {
   "cell_type": "code",
   "execution_count": 80,
   "id": "e2f7d963",
   "metadata": {},
   "outputs": [
    {
     "name": "stdout",
     "output_type": "stream",
     "text": [
      "The Nearest songs to song: [56, 55, 57]\n",
      "The Distance from song: [1.4142135623730951, 1.4142135623730951]\n"
     ]
    }
   ],
   "source": [
    "print('The Nearest songs to song:', sim_songs)\n",
    "print('The Distance from song:', song_distances)"
   ]
  },
  {
   "cell_type": "code",
   "execution_count": 81,
   "id": "d18f86c0",
   "metadata": {},
   "outputs": [
    {
     "data": {
      "text/plain": [
       "index                                               6548\n",
       "song_id                               SOGLBQA12A6701E7AF\n",
       "title                                      Too Much Love\n",
       "release                                  LCD Soundsystem\n",
       "artist_name                              LCD Soundsystem\n",
       "year                                                2005\n",
       "user_id         5a905f000fc1ff3df7ca807d57edb608863db05d\n",
       "listen_count                                           1\n",
       "song                     Too Much Love - LCD Soundsystem\n",
       "table_index                                           56\n",
       "Name: 56, dtype: object"
      ]
     },
     "execution_count": 81,
     "metadata": {},
     "output_type": "execute_result"
    }
   ],
   "source": [
    "df.loc[56]"
   ]
  },
  {
   "cell_type": "code",
   "execution_count": 84,
   "id": "716fa307",
   "metadata": {},
   "outputs": [
    {
     "data": {
      "text/plain": [
       "index                                               6714\n",
       "song_id                               SOWEWCO12A8C14074E\n",
       "title                         Everything Will Be Alright\n",
       "release                                         Hot Fuss\n",
       "artist_name                                  The Killers\n",
       "year                                                2004\n",
       "user_id         94d5bdc37683950e90c56c9b32721edb5d347600\n",
       "listen_count                                           2\n",
       "song            Everything Will Be Alright - The Killers\n",
       "table_index                                           57\n",
       "Name: 57, dtype: object"
      ]
     },
     "execution_count": 84,
     "metadata": {},
     "output_type": "execute_result"
    }
   ],
   "source": [
    "df.loc[57]"
   ]
  },
  {
   "cell_type": "markdown",
   "id": "0b6705ea",
   "metadata": {},
   "source": [
    "Using Cosine similiarty for collaborative filtering"
   ]
  },
  {
   "cell_type": "code",
   "execution_count": 85,
   "id": "4af1575f",
   "metadata": {},
   "outputs": [
    {
     "data": {
      "text/html": [
       "<style>#sk-container-id-4 {color: black;background-color: white;}#sk-container-id-4 pre{padding: 0;}#sk-container-id-4 div.sk-toggleable {background-color: white;}#sk-container-id-4 label.sk-toggleable__label {cursor: pointer;display: block;width: 100%;margin-bottom: 0;padding: 0.3em;box-sizing: border-box;text-align: center;}#sk-container-id-4 label.sk-toggleable__label-arrow:before {content: \"▸\";float: left;margin-right: 0.25em;color: #696969;}#sk-container-id-4 label.sk-toggleable__label-arrow:hover:before {color: black;}#sk-container-id-4 div.sk-estimator:hover label.sk-toggleable__label-arrow:before {color: black;}#sk-container-id-4 div.sk-toggleable__content {max-height: 0;max-width: 0;overflow: hidden;text-align: left;background-color: #f0f8ff;}#sk-container-id-4 div.sk-toggleable__content pre {margin: 0.2em;color: black;border-radius: 0.25em;background-color: #f0f8ff;}#sk-container-id-4 input.sk-toggleable__control:checked~div.sk-toggleable__content {max-height: 200px;max-width: 100%;overflow: auto;}#sk-container-id-4 input.sk-toggleable__control:checked~label.sk-toggleable__label-arrow:before {content: \"▾\";}#sk-container-id-4 div.sk-estimator input.sk-toggleable__control:checked~label.sk-toggleable__label {background-color: #d4ebff;}#sk-container-id-4 div.sk-label input.sk-toggleable__control:checked~label.sk-toggleable__label {background-color: #d4ebff;}#sk-container-id-4 input.sk-hidden--visually {border: 0;clip: rect(1px 1px 1px 1px);clip: rect(1px, 1px, 1px, 1px);height: 1px;margin: -1px;overflow: hidden;padding: 0;position: absolute;width: 1px;}#sk-container-id-4 div.sk-estimator {font-family: monospace;background-color: #f0f8ff;border: 1px dotted black;border-radius: 0.25em;box-sizing: border-box;margin-bottom: 0.5em;}#sk-container-id-4 div.sk-estimator:hover {background-color: #d4ebff;}#sk-container-id-4 div.sk-parallel-item::after {content: \"\";width: 100%;border-bottom: 1px solid gray;flex-grow: 1;}#sk-container-id-4 div.sk-label:hover label.sk-toggleable__label {background-color: #d4ebff;}#sk-container-id-4 div.sk-serial::before {content: \"\";position: absolute;border-left: 1px solid gray;box-sizing: border-box;top: 0;bottom: 0;left: 50%;z-index: 0;}#sk-container-id-4 div.sk-serial {display: flex;flex-direction: column;align-items: center;background-color: white;padding-right: 0.2em;padding-left: 0.2em;position: relative;}#sk-container-id-4 div.sk-item {position: relative;z-index: 1;}#sk-container-id-4 div.sk-parallel {display: flex;align-items: stretch;justify-content: center;background-color: white;position: relative;}#sk-container-id-4 div.sk-item::before, #sk-container-id-4 div.sk-parallel-item::before {content: \"\";position: absolute;border-left: 1px solid gray;box-sizing: border-box;top: 0;bottom: 0;left: 50%;z-index: -1;}#sk-container-id-4 div.sk-parallel-item {display: flex;flex-direction: column;z-index: 1;position: relative;background-color: white;}#sk-container-id-4 div.sk-parallel-item:first-child::after {align-self: flex-end;width: 50%;}#sk-container-id-4 div.sk-parallel-item:last-child::after {align-self: flex-start;width: 50%;}#sk-container-id-4 div.sk-parallel-item:only-child::after {width: 0;}#sk-container-id-4 div.sk-dashed-wrapped {border: 1px dashed gray;margin: 0 0.4em 0.5em 0.4em;box-sizing: border-box;padding-bottom: 0.4em;background-color: white;}#sk-container-id-4 div.sk-label label {font-family: monospace;font-weight: bold;display: inline-block;line-height: 1.2em;}#sk-container-id-4 div.sk-label-container {text-align: center;}#sk-container-id-4 div.sk-container {/* jupyter's `normalize.less` sets `[hidden] { display: none; }` but bootstrap.min.css set `[hidden] { display: none !important; }` so we also need the `!important` here to be able to override the default hidden behavior on the sphinx rendered scikit-learn.org. See: https://github.com/scikit-learn/scikit-learn/issues/21755 */display: inline-block !important;position: relative;}#sk-container-id-4 div.sk-text-repr-fallback {display: none;}</style><div id=\"sk-container-id-4\" class=\"sk-top-container\"><div class=\"sk-text-repr-fallback\"><pre>NearestNeighbors(algorithm=&#x27;brute&#x27;, metric=&#x27;euclidean&#x27;)</pre><b>In a Jupyter environment, please rerun this cell to show the HTML representation or trust the notebook. <br />On GitHub, the HTML representation is unable to render, please try loading this page with nbviewer.org.</b></div><div class=\"sk-container\" hidden><div class=\"sk-item\"><div class=\"sk-estimator sk-toggleable\"><input class=\"sk-toggleable__control sk-hidden--visually\" id=\"sk-estimator-id-4\" type=\"checkbox\" checked><label for=\"sk-estimator-id-4\" class=\"sk-toggleable__label sk-toggleable__label-arrow\">NearestNeighbors</label><div class=\"sk-toggleable__content\"><pre>NearestNeighbors(algorithm=&#x27;brute&#x27;, metric=&#x27;euclidean&#x27;)</pre></div></div></div></div></div>"
      ],
      "text/plain": [
       "NearestNeighbors(algorithm='brute', metric='euclidean')"
      ]
     },
     "execution_count": 85,
     "metadata": {},
     "output_type": "execute_result"
    }
   ],
   "source": [
    "knn = NearestNeighbors(metric='euclidean',algorithm='brute')\n",
    "knn.fit(df_2.values)"
   ]
  },
  {
   "cell_type": "code",
   "execution_count": 86,
   "id": "d5c895df",
   "metadata": {},
   "outputs": [],
   "source": [
    "distances,indices = knn.kneighbors(df_1,n_neighbors=3)"
   ]
  },
  {
   "cell_type": "code",
   "execution_count": 184,
   "id": "05efc036",
   "metadata": {},
   "outputs": [],
   "source": [
    "X = df_2['table_index'].array.reshape(-1,1)\n",
    "y = df_2['listen_count'].array.reshape(-1,1)"
   ]
  },
  {
   "cell_type": "code",
   "execution_count": 186,
   "id": "d74194eb",
   "metadata": {},
   "outputs": [
    {
     "data": {
      "text/plain": [
       "array([[   0,    1,    2],\n",
       "       [   1,    0,    2],\n",
       "       [   2,    1,    3],\n",
       "       ...,\n",
       "       [7999, 7998, 7997],\n",
       "       [7999, 7998, 7997],\n",
       "       [7999, 7998, 7997]], dtype=int64)"
      ]
     },
     "execution_count": 186,
     "metadata": {},
     "output_type": "execute_result"
    }
   ],
   "source": [
    "indices"
   ]
  },
  {
   "cell_type": "code",
   "execution_count": 188,
   "id": "f73769e0",
   "metadata": {},
   "outputs": [
    {
     "data": {
      "text/plain": [
       "array([[  0.        ,   1.        ,   2.        ],\n",
       "       [  0.        ,   1.        ,   1.        ],\n",
       "       [  0.        ,   1.        ,   1.41421356],\n",
       "       ...,\n",
       "       [340.00147059, 341.        , 342.00146199],\n",
       "       [341.        , 342.00146199, 343.        ],\n",
       "       [342.00146199, 343.        , 344.00145349]])"
      ]
     },
     "execution_count": 188,
     "metadata": {},
     "output_type": "execute_result"
    }
   ],
   "source": [
    "distances"
   ]
  },
  {
   "cell_type": "code",
   "execution_count": 191,
   "id": "9fb514ee",
   "metadata": {},
   "outputs": [],
   "source": [
    "index_for_song1 = df_2.index.tolist().index(56)"
   ]
  },
  {
   "cell_type": "code",
   "execution_count": 193,
   "id": "e85f86b9",
   "metadata": {},
   "outputs": [
    {
     "data": {
      "text/plain": [
       "56"
      ]
     },
     "execution_count": 193,
     "metadata": {},
     "output_type": "execute_result"
    }
   ],
   "source": [
    "index_for_song"
   ]
  },
  {
   "cell_type": "code",
   "execution_count": 196,
   "id": "aacd4832",
   "metadata": {},
   "outputs": [],
   "source": [
    "sim_songs1 = indices[index_for_song].tolist()"
   ]
  },
  {
   "cell_type": "code",
   "execution_count": 198,
   "id": "d548f7e7",
   "metadata": {},
   "outputs": [
    {
     "data": {
      "text/plain": [
       "[56, 55, 57]"
      ]
     },
     "execution_count": 198,
     "metadata": {},
     "output_type": "execute_result"
    }
   ],
   "source": [
    "sim_songs1"
   ]
  },
  {
   "cell_type": "code",
   "execution_count": 200,
   "id": "b1b605c0",
   "metadata": {},
   "outputs": [],
   "source": [
    "song_distances1 = distances[index_for_song].tolist()"
   ]
  },
  {
   "cell_type": "code",
   "execution_count": 202,
   "id": "d8d11066",
   "metadata": {},
   "outputs": [
    {
     "data": {
      "text/plain": [
       "[0.0, 1.4142135623730951, 1.4142135623730951]"
      ]
     },
     "execution_count": 202,
     "metadata": {},
     "output_type": "execute_result"
    }
   ],
   "source": [
    "song_distances1"
   ]
  },
  {
   "cell_type": "code",
   "execution_count": 235,
   "id": "07a94685",
   "metadata": {},
   "outputs": [],
   "source": [
    "id_song1 = sim_songs1.index(index_for_song)"
   ]
  },
  {
   "cell_type": "code",
   "execution_count": 206,
   "id": "cf3e0be9",
   "metadata": {},
   "outputs": [
    {
     "data": {
      "text/plain": [
       "0"
      ]
     },
     "execution_count": 206,
     "metadata": {},
     "output_type": "execute_result"
    }
   ],
   "source": [
    "id_song1"
   ]
  },
  {
   "cell_type": "code",
   "execution_count": 243,
   "id": "0417ae0d",
   "metadata": {},
   "outputs": [
    {
     "data": {
      "text/plain": [
       "1.4142135623730951"
      ]
     },
     "execution_count": 243,
     "metadata": {},
     "output_type": "execute_result"
    }
   ],
   "source": [
    "song_distances1.pop(id_song1)"
   ]
  },
  {
   "cell_type": "code",
   "execution_count": 210,
   "id": "23b1dc63",
   "metadata": {},
   "outputs": [
    {
     "name": "stdout",
     "output_type": "stream",
     "text": [
      "The Nearest songs to song: [56, 55, 57]\n",
      "The Distance from song: [1.4142135623730951]\n"
     ]
    }
   ],
   "source": [
    "print('The Nearest songs to song:', sim_songs1)\n",
    "print('The Distance from song:', song_distances1)"
   ]
  },
  {
   "cell_type": "code",
   "execution_count": 213,
   "id": "f7742fe1",
   "metadata": {},
   "outputs": [
    {
     "data": {
      "text/plain": [
       "level_0                                               56\n",
       "index                                               6548\n",
       "song_id                               SOGLBQA12A6701E7AF\n",
       "title                                      Too Much Love\n",
       "release                                  LCD Soundsystem\n",
       "artist_name                              LCD Soundsystem\n",
       "year                                                2005\n",
       "user_id         5a905f000fc1ff3df7ca807d57edb608863db05d\n",
       "listen_count                                           1\n",
       "song                     Too Much Love - LCD Soundsystem\n",
       "table_index                                           56\n",
       "Name: 56, dtype: object"
      ]
     },
     "execution_count": 213,
     "metadata": {},
     "output_type": "execute_result"
    }
   ],
   "source": [
    "df.loc[56]"
   ]
  },
  {
   "cell_type": "code",
   "execution_count": 217,
   "id": "2a4b80c7",
   "metadata": {},
   "outputs": [
    {
     "data": {
      "text/plain": [
       "level_0                                               55\n",
       "index                                               6535\n",
       "song_id                               SOWKLEE12A81C232AC\n",
       "title                                              Rage!\n",
       "release                                 She's in Control\n",
       "artist_name                                      Chromeo\n",
       "year                                                2004\n",
       "user_id         5a905f000fc1ff3df7ca807d57edb608863db05d\n",
       "listen_count                                           2\n",
       "song                                     Rage! - Chromeo\n",
       "table_index                                           55\n",
       "Name: 55, dtype: object"
      ]
     },
     "execution_count": 217,
     "metadata": {},
     "output_type": "execute_result"
    }
   ],
   "source": [
    "df.loc[55]"
   ]
  },
  {
   "cell_type": "markdown",
   "id": "26e2493f",
   "metadata": {},
   "source": [
    "Using manhattan distancing with brute algorithm for collaborative filtering"
   ]
  },
  {
   "cell_type": "code",
   "execution_count": 218,
   "id": "e71f6699",
   "metadata": {},
   "outputs": [
    {
     "data": {
      "text/html": [
       "<style>#sk-container-id-12 {color: black;background-color: white;}#sk-container-id-12 pre{padding: 0;}#sk-container-id-12 div.sk-toggleable {background-color: white;}#sk-container-id-12 label.sk-toggleable__label {cursor: pointer;display: block;width: 100%;margin-bottom: 0;padding: 0.3em;box-sizing: border-box;text-align: center;}#sk-container-id-12 label.sk-toggleable__label-arrow:before {content: \"▸\";float: left;margin-right: 0.25em;color: #696969;}#sk-container-id-12 label.sk-toggleable__label-arrow:hover:before {color: black;}#sk-container-id-12 div.sk-estimator:hover label.sk-toggleable__label-arrow:before {color: black;}#sk-container-id-12 div.sk-toggleable__content {max-height: 0;max-width: 0;overflow: hidden;text-align: left;background-color: #f0f8ff;}#sk-container-id-12 div.sk-toggleable__content pre {margin: 0.2em;color: black;border-radius: 0.25em;background-color: #f0f8ff;}#sk-container-id-12 input.sk-toggleable__control:checked~div.sk-toggleable__content {max-height: 200px;max-width: 100%;overflow: auto;}#sk-container-id-12 input.sk-toggleable__control:checked~label.sk-toggleable__label-arrow:before {content: \"▾\";}#sk-container-id-12 div.sk-estimator input.sk-toggleable__control:checked~label.sk-toggleable__label {background-color: #d4ebff;}#sk-container-id-12 div.sk-label input.sk-toggleable__control:checked~label.sk-toggleable__label {background-color: #d4ebff;}#sk-container-id-12 input.sk-hidden--visually {border: 0;clip: rect(1px 1px 1px 1px);clip: rect(1px, 1px, 1px, 1px);height: 1px;margin: -1px;overflow: hidden;padding: 0;position: absolute;width: 1px;}#sk-container-id-12 div.sk-estimator {font-family: monospace;background-color: #f0f8ff;border: 1px dotted black;border-radius: 0.25em;box-sizing: border-box;margin-bottom: 0.5em;}#sk-container-id-12 div.sk-estimator:hover {background-color: #d4ebff;}#sk-container-id-12 div.sk-parallel-item::after {content: \"\";width: 100%;border-bottom: 1px solid gray;flex-grow: 1;}#sk-container-id-12 div.sk-label:hover label.sk-toggleable__label {background-color: #d4ebff;}#sk-container-id-12 div.sk-serial::before {content: \"\";position: absolute;border-left: 1px solid gray;box-sizing: border-box;top: 0;bottom: 0;left: 50%;z-index: 0;}#sk-container-id-12 div.sk-serial {display: flex;flex-direction: column;align-items: center;background-color: white;padding-right: 0.2em;padding-left: 0.2em;position: relative;}#sk-container-id-12 div.sk-item {position: relative;z-index: 1;}#sk-container-id-12 div.sk-parallel {display: flex;align-items: stretch;justify-content: center;background-color: white;position: relative;}#sk-container-id-12 div.sk-item::before, #sk-container-id-12 div.sk-parallel-item::before {content: \"\";position: absolute;border-left: 1px solid gray;box-sizing: border-box;top: 0;bottom: 0;left: 50%;z-index: -1;}#sk-container-id-12 div.sk-parallel-item {display: flex;flex-direction: column;z-index: 1;position: relative;background-color: white;}#sk-container-id-12 div.sk-parallel-item:first-child::after {align-self: flex-end;width: 50%;}#sk-container-id-12 div.sk-parallel-item:last-child::after {align-self: flex-start;width: 50%;}#sk-container-id-12 div.sk-parallel-item:only-child::after {width: 0;}#sk-container-id-12 div.sk-dashed-wrapped {border: 1px dashed gray;margin: 0 0.4em 0.5em 0.4em;box-sizing: border-box;padding-bottom: 0.4em;background-color: white;}#sk-container-id-12 div.sk-label label {font-family: monospace;font-weight: bold;display: inline-block;line-height: 1.2em;}#sk-container-id-12 div.sk-label-container {text-align: center;}#sk-container-id-12 div.sk-container {/* jupyter's `normalize.less` sets `[hidden] { display: none; }` but bootstrap.min.css set `[hidden] { display: none !important; }` so we also need the `!important` here to be able to override the default hidden behavior on the sphinx rendered scikit-learn.org. See: https://github.com/scikit-learn/scikit-learn/issues/21755 */display: inline-block !important;position: relative;}#sk-container-id-12 div.sk-text-repr-fallback {display: none;}</style><div id=\"sk-container-id-12\" class=\"sk-top-container\"><div class=\"sk-text-repr-fallback\"><pre>NearestNeighbors(algorithm=&#x27;brute&#x27;, metric=&#x27;manhattan&#x27;)</pre><b>In a Jupyter environment, please rerun this cell to show the HTML representation or trust the notebook. <br />On GitHub, the HTML representation is unable to render, please try loading this page with nbviewer.org.</b></div><div class=\"sk-container\" hidden><div class=\"sk-item\"><div class=\"sk-estimator sk-toggleable\"><input class=\"sk-toggleable__control sk-hidden--visually\" id=\"sk-estimator-id-12\" type=\"checkbox\" checked><label for=\"sk-estimator-id-12\" class=\"sk-toggleable__label sk-toggleable__label-arrow\">NearestNeighbors</label><div class=\"sk-toggleable__content\"><pre>NearestNeighbors(algorithm=&#x27;brute&#x27;, metric=&#x27;manhattan&#x27;)</pre></div></div></div></div></div>"
      ],
      "text/plain": [
       "NearestNeighbors(algorithm='brute', metric='manhattan')"
      ]
     },
     "execution_count": 218,
     "metadata": {},
     "output_type": "execute_result"
    }
   ],
   "source": [
    "knn = NearestNeighbors(metric='manhattan',algorithm='brute')\n",
    "knn.fit(df_2.values)"
   ]
  },
  {
   "cell_type": "code",
   "execution_count": 220,
   "id": "a136adc9",
   "metadata": {},
   "outputs": [],
   "source": [
    "distances,indices = knn.kneighbors(df_1,n_neighbors=3)"
   ]
  },
  {
   "cell_type": "code",
   "execution_count": 222,
   "id": "91d2783a",
   "metadata": {},
   "outputs": [],
   "source": [
    "X = df_2['table_index'].array.reshape(-1,1)\n",
    "y = df_2['listen_count'].array.reshape(-1,1)"
   ]
  },
  {
   "cell_type": "code",
   "execution_count": 224,
   "id": "46f5716d",
   "metadata": {},
   "outputs": [
    {
     "data": {
      "text/plain": [
       "array([[   0,    1,    2],\n",
       "       [   1,    0,    2],\n",
       "       [   2,    1,    0],\n",
       "       ...,\n",
       "       [7998, 7999, 7996],\n",
       "       [7999, 7997, 7998],\n",
       "       [7998, 7999, 7996]], dtype=int64)"
      ]
     },
     "execution_count": 224,
     "metadata": {},
     "output_type": "execute_result"
    }
   ],
   "source": [
    "indices"
   ]
  },
  {
   "cell_type": "code",
   "execution_count": 226,
   "id": "654fd3ae",
   "metadata": {},
   "outputs": [
    {
     "data": {
      "text/plain": [
       "array([[  0.,   1.,   2.],\n",
       "       [  0.,   1.,   1.],\n",
       "       [  0.,   1.,   2.],\n",
       "       ...,\n",
       "       [341., 341., 343.],\n",
       "       [341., 343., 343.],\n",
       "       [343., 343., 345.]])"
      ]
     },
     "execution_count": 226,
     "metadata": {},
     "output_type": "execute_result"
    }
   ],
   "source": [
    "distances"
   ]
  },
  {
   "cell_type": "code",
   "execution_count": 228,
   "id": "99d83514",
   "metadata": {},
   "outputs": [],
   "source": [
    "index_for_song2 = df_2.index.tolist().index(56)"
   ]
  },
  {
   "cell_type": "code",
   "execution_count": 230,
   "id": "9ba3406f",
   "metadata": {},
   "outputs": [
    {
     "data": {
      "text/plain": [
       "56"
      ]
     },
     "execution_count": 230,
     "metadata": {},
     "output_type": "execute_result"
    }
   ],
   "source": [
    "index_for_song2"
   ]
  },
  {
   "cell_type": "code",
   "execution_count": 232,
   "id": "46650584",
   "metadata": {},
   "outputs": [],
   "source": [
    "sim_songs2 = indices[index_for_song].tolist()"
   ]
  },
  {
   "cell_type": "code",
   "execution_count": 250,
   "id": "1bd2544e",
   "metadata": {},
   "outputs": [
    {
     "data": {
      "text/plain": [
       "[56, 54, 55]"
      ]
     },
     "execution_count": 250,
     "metadata": {},
     "output_type": "execute_result"
    }
   ],
   "source": [
    "sim_songs2"
   ]
  },
  {
   "cell_type": "code",
   "execution_count": 252,
   "id": "68b3b8ec",
   "metadata": {},
   "outputs": [],
   "source": [
    "song_distances2 = distances[index_for_song2].tolist()"
   ]
  },
  {
   "cell_type": "code",
   "execution_count": 253,
   "id": "54d20f8a",
   "metadata": {},
   "outputs": [
    {
     "data": {
      "text/plain": [
       "[0.0, 2.0, 2.0]"
      ]
     },
     "execution_count": 253,
     "metadata": {},
     "output_type": "execute_result"
    }
   ],
   "source": [
    "song_distances2"
   ]
  },
  {
   "cell_type": "code",
   "execution_count": 246,
   "id": "46a31221",
   "metadata": {},
   "outputs": [],
   "source": [
    "id_song2 = sim_songs2.index(index_for_song2)"
   ]
  },
  {
   "cell_type": "code",
   "execution_count": 247,
   "id": "5215a74a",
   "metadata": {},
   "outputs": [
    {
     "data": {
      "text/plain": [
       "0"
      ]
     },
     "execution_count": 247,
     "metadata": {},
     "output_type": "execute_result"
    }
   ],
   "source": [
    "id_song2"
   ]
  },
  {
   "cell_type": "code",
   "execution_count": 256,
   "id": "0e2dac72",
   "metadata": {},
   "outputs": [
    {
     "data": {
      "text/plain": [
       "0.0"
      ]
     },
     "execution_count": 256,
     "metadata": {},
     "output_type": "execute_result"
    }
   ],
   "source": [
    "song_distances2.pop(id_song2)"
   ]
  },
  {
   "cell_type": "code",
   "execution_count": 258,
   "id": "4d4be92e",
   "metadata": {},
   "outputs": [
    {
     "name": "stdout",
     "output_type": "stream",
     "text": [
      "The Nearest songs to song: [56, 54, 55]\n",
      "The Distance from song: [2.0, 2.0]\n"
     ]
    }
   ],
   "source": [
    "print('The Nearest songs to song:', sim_songs2)\n",
    "print('The Distance from song:', song_distances2)"
   ]
  },
  {
   "cell_type": "code",
   "execution_count": 260,
   "id": "627b3172",
   "metadata": {},
   "outputs": [
    {
     "data": {
      "text/plain": [
       "level_0                                               56\n",
       "index                                               6548\n",
       "song_id                               SOGLBQA12A6701E7AF\n",
       "title                                      Too Much Love\n",
       "release                                  LCD Soundsystem\n",
       "artist_name                              LCD Soundsystem\n",
       "year                                                2005\n",
       "user_id         5a905f000fc1ff3df7ca807d57edb608863db05d\n",
       "listen_count                                           1\n",
       "song                     Too Much Love - LCD Soundsystem\n",
       "table_index                                           56\n",
       "Name: 56, dtype: object"
      ]
     },
     "execution_count": 260,
     "metadata": {},
     "output_type": "execute_result"
    }
   ],
   "source": [
    "df.loc[56]"
   ]
  },
  {
   "cell_type": "code",
   "execution_count": 261,
   "id": "eb1b8c09",
   "metadata": {},
   "outputs": [
    {
     "data": {
      "text/plain": [
       "level_0                                               55\n",
       "index                                               6535\n",
       "song_id                               SOWKLEE12A81C232AC\n",
       "title                                              Rage!\n",
       "release                                 She's in Control\n",
       "artist_name                                      Chromeo\n",
       "year                                                2004\n",
       "user_id         5a905f000fc1ff3df7ca807d57edb608863db05d\n",
       "listen_count                                           2\n",
       "song                                     Rage! - Chromeo\n",
       "table_index                                           55\n",
       "Name: 55, dtype: object"
      ]
     },
     "execution_count": 261,
     "metadata": {},
     "output_type": "execute_result"
    }
   ],
   "source": [
    "df.loc[55]"
   ]
  }
 ],
 "metadata": {
  "colab": {
   "provenance": []
  },
  "kernelspec": {
   "display_name": "Python 3 (ipykernel)",
   "language": "python",
   "name": "python3"
  },
  "language_info": {
   "codemirror_mode": {
    "name": "ipython",
    "version": 3
   },
   "file_extension": ".py",
   "mimetype": "text/x-python",
   "name": "python",
   "nbconvert_exporter": "python",
   "pygments_lexer": "ipython3",
   "version": "3.9.7"
  }
 },
 "nbformat": 4,
 "nbformat_minor": 5
}
